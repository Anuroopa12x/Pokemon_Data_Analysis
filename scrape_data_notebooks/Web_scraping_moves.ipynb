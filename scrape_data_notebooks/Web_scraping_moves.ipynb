{
 "cells": [
  {
   "cell_type": "code",
   "execution_count": 2,
   "id": "c47b2bd9-3f81-4f6c-bb6a-c1f063f39eef",
   "metadata": {},
   "outputs": [],
   "source": [
    "import pandas as pd\n",
    "import numpy as np \n",
    "import matplotlib.pyplot as plt\n",
    "import seaborn as sns\n",
    "from bs4 import BeautifulSoup\n",
    "import requests"
   ]
  },
  {
   "cell_type": "code",
   "execution_count": 3,
   "id": "d168e9b8-46b5-47cd-84e4-62d891baead8",
   "metadata": {},
   "outputs": [
    {
     "data": {
      "text/html": [
       "<div>\n",
       "<style scoped>\n",
       "    .dataframe tbody tr th:only-of-type {\n",
       "        vertical-align: middle;\n",
       "    }\n",
       "\n",
       "    .dataframe tbody tr th {\n",
       "        vertical-align: top;\n",
       "    }\n",
       "\n",
       "    .dataframe thead th {\n",
       "        text-align: right;\n",
       "    }\n",
       "</style>\n",
       "<table border=\"1\" class=\"dataframe\">\n",
       "  <thead>\n",
       "    <tr style=\"text-align: right;\">\n",
       "      <th></th>\n",
       "      <th>name</th>\n",
       "      <th>moves</th>\n",
       "    </tr>\n",
       "  </thead>\n",
       "  <tbody>\n",
       "    <tr>\n",
       "      <th>1</th>\n",
       "      <td>NaN</td>\n",
       "      <td>NaN</td>\n",
       "    </tr>\n",
       "    <tr>\n",
       "      <th>2</th>\n",
       "      <td>NaN</td>\n",
       "      <td>NaN</td>\n",
       "    </tr>\n",
       "    <tr>\n",
       "      <th>3</th>\n",
       "      <td>NaN</td>\n",
       "      <td>NaN</td>\n",
       "    </tr>\n",
       "    <tr>\n",
       "      <th>4</th>\n",
       "      <td>NaN</td>\n",
       "      <td>NaN</td>\n",
       "    </tr>\n",
       "    <tr>\n",
       "      <th>5</th>\n",
       "      <td>NaN</td>\n",
       "      <td>NaN</td>\n",
       "    </tr>\n",
       "    <tr>\n",
       "      <th>...</th>\n",
       "      <td>...</td>\n",
       "      <td>...</td>\n",
       "    </tr>\n",
       "    <tr>\n",
       "      <th>1021</th>\n",
       "      <td>NaN</td>\n",
       "      <td>NaN</td>\n",
       "    </tr>\n",
       "    <tr>\n",
       "      <th>1022</th>\n",
       "      <td>NaN</td>\n",
       "      <td>NaN</td>\n",
       "    </tr>\n",
       "    <tr>\n",
       "      <th>1023</th>\n",
       "      <td>NaN</td>\n",
       "      <td>NaN</td>\n",
       "    </tr>\n",
       "    <tr>\n",
       "      <th>1024</th>\n",
       "      <td>NaN</td>\n",
       "      <td>NaN</td>\n",
       "    </tr>\n",
       "    <tr>\n",
       "      <th>1025</th>\n",
       "      <td>NaN</td>\n",
       "      <td>NaN</td>\n",
       "    </tr>\n",
       "  </tbody>\n",
       "</table>\n",
       "<p>1025 rows × 2 columns</p>\n",
       "</div>"
      ],
      "text/plain": [
       "     name moves\n",
       "1     NaN   NaN\n",
       "2     NaN   NaN\n",
       "3     NaN   NaN\n",
       "4     NaN   NaN\n",
       "5     NaN   NaN\n",
       "...   ...   ...\n",
       "1021  NaN   NaN\n",
       "1022  NaN   NaN\n",
       "1023  NaN   NaN\n",
       "1024  NaN   NaN\n",
       "1025  NaN   NaN\n",
       "\n",
       "[1025 rows x 2 columns]"
      ]
     },
     "execution_count": 3,
     "metadata": {},
     "output_type": "execute_result"
    }
   ],
   "source": [
    "pokemon = pd.DataFrame(columns = [\"name\", \"moves\"], index = range(1, 1026))\n",
    "pokemon"
   ]
  },
  {
   "cell_type": "code",
   "execution_count": 6,
   "id": "ceaf17cb-a130-4455-986f-c086f019166f",
   "metadata": {},
   "outputs": [],
   "source": [
    "pokemon = pd.read_csv(\"../pokemon_moves.csv\", index_col = 0)"
   ]
  },
  {
   "cell_type": "code",
   "execution_count": 4,
   "id": "c70dbd3e-2423-459a-9259-1345a97be3af",
   "metadata": {},
   "outputs": [],
   "source": [
    "# Creating a function for finding stats of a pokemon \n",
    "def scrap_pokemon_moves(pokemon_name):\n",
    "    pokemon = pokemon_name.replace(\" \", \"\").lower()\n",
    "    try:\n",
    "        response = requests.get(f\"https://www.serebii.net/pokedex-sv/{pokemon}/\")\n",
    "        response.raise_for_status\n",
    "        text = response.text\n",
    "    except requests.exceptions.RequestException as e:\n",
    "        print(f\"Request error {e} occured\")\n",
    "    soup = BeautifulSoup(text, \"lxml\")\n",
    "    # get moves\n",
    "    moves = []\n",
    "    moves_data = soup.find_all(\"td\", class_=\"fooinfo\")\n",
    "    for data in moves_data:\n",
    "        if data.find(\"a\") != None:\n",
    "            link = data.find(\"a\").get(\"href\")\n",
    "            if link != None:\n",
    "                if \"attackdex\" in link:\n",
    "                    move_data = data.find(\"a\").text\n",
    "                    if \"TM\" in move_data:\n",
    "                        None\n",
    "                    else:\n",
    "                        moves.append(move_data)\n",
    "    return {\"name\": pokemon_name, \"moves\": moves}"
   ]
  },
  {
   "cell_type": "code",
   "execution_count": 7,
   "id": "97c372b6-ed71-4492-9939-d5ca1c880758",
   "metadata": {},
   "outputs": [],
   "source": [
    "# Bulbasaur evolution line\n",
    "bulbasaur_data = scrap_pokemon_moves(\"Bulbasaur\")\n",
    "pokemon.loc[1] = bulbasaur_data\n",
    "ivysaur_data = scrap_pokemon_moves(\"Ivysaur\")\n",
    "pokemon.loc[2] = ivysaur_data\n",
    "venusaur_data = scrap_pokemon_moves(\"Venusaur\")\n",
    "pokemon.loc[3] = venusaur_data"
   ]
  },
  {
   "cell_type": "code",
   "execution_count": 39,
   "id": "e929a548-1f8b-4618-b5d3-4c17ddddcbaf",
   "metadata": {},
   "outputs": [],
   "source": [
    "# Charmander line \n",
    "charmander_data = scrap_pokemon_moves(\"Charmander\")\n",
    "pokemon.loc[4] = charmander_data\n",
    "charmeleon_data = scrap_pokemon_moves(\"Charmeleon\")\n",
    "pokemon.loc[5] = charmeleon_data\n",
    "charizard_data = scrap_pokemon_moves(\"Charizard\")\n",
    "pokemon.loc[6] = charizard_data"
   ]
  },
  {
   "cell_type": "code",
   "execution_count": 40,
   "id": "b38c91ad-7e98-44e8-bde6-3898dfe4fb06",
   "metadata": {},
   "outputs": [],
   "source": [
    "# Squirtle line \n",
    "squirtle_data = scrap_pokemon_moves(\"Squirtle\")\n",
    "pokemon.loc[7] = squirtle_data\n",
    "wartortle_data = scrap_pokemon_moves(\"Wartortle\")\n",
    "pokemon.loc[8] = wartortle_data\n",
    "blastoise_data = scrap_pokemon_moves(\"Blastoise\")\n",
    "pokemon.loc[9] = blastoise_data"
   ]
  },
  {
   "cell_type": "code",
   "execution_count": 41,
   "id": "7c009e1a-2e43-43a4-a0e4-2c73bc968b1a",
   "metadata": {},
   "outputs": [],
   "source": [
    "# Caterpie line \n",
    "caterpie_data = scrap_pokemon_moves(\"Caterpie\")\n",
    "pokemon.loc[10] = caterpie_data\n",
    "metapod_data = scrap_pokemon_moves(\"Metapod\")\n",
    "pokemon.loc[11] = metapod_data\n",
    "butterfree_data = scrap_pokemon_moves(\"Butterfree\")\n",
    "pokemon.loc[12] = butterfree_data"
   ]
  },
  {
   "cell_type": "code",
   "execution_count": 42,
   "id": "a331bdb2-2a19-4a9a-bee6-2e9e4cae3c21",
   "metadata": {},
   "outputs": [],
   "source": [
    "# Weedle line \n",
    "weedle_data = scrap_pokemon_moves(\"Weedle\")\n",
    "pokemon.loc[13] = weedle_data\n",
    "kakuna_data = scrap_pokemon_moves(\"Kakuna\")\n",
    "pokemon.loc[14] = kakuna_data\n",
    "beedrill_data = scrap_pokemon_moves(\"Beedrill\")\n",
    "pokemon.loc[15] = beedrill_data"
   ]
  },
  {
   "cell_type": "code",
   "execution_count": 43,
   "id": "9034984c-3f46-469e-a081-ade5bcd8e275",
   "metadata": {},
   "outputs": [],
   "source": [
    "#pidgey line\n",
    "pidgey_data = scrap_pokemon_moves(\"Pidgey\")\n",
    "pokemon.loc[16] = pidgey_data\n",
    "pidgeotto_data = scrap_pokemon_moves(\"Pidgeotto\")\n",
    "pokemon.loc[17] = pidgeotto_data\n",
    "pidgeot_data = scrap_pokemon_moves(\"Pidgeot\")\n",
    "pokemon.loc[18] = pidgeot_data"
   ]
  },
  {
   "cell_type": "code",
   "execution_count": 44,
   "id": "3938e030-e9a5-4323-825e-6db6823248b9",
   "metadata": {},
   "outputs": [],
   "source": [
    "# Rattata line\n",
    "rattata_data = scrap_pokemon_moves(\"Rattata\")\n",
    "pokemon.loc[19] = rattata_data\n",
    "raticate_data = scrap_pokemon_moves(\"Raticate\")\n",
    "pokemon.loc[20] = raticate_data"
   ]
  },
  {
   "cell_type": "code",
   "execution_count": 45,
   "id": "72c09fee-a2a8-406b-b090-e2dcfbca7045",
   "metadata": {},
   "outputs": [],
   "source": [
    "#Spearow line\n",
    "spearow_data = scrap_pokemon_moves(\"Spearow\")\n",
    "pokemon.loc[21] = spearow_data\n",
    "fearow_data = scrap_pokemon_moves(\"Fearow\")\n",
    "pokemon.loc[22] = fearow_data"
   ]
  },
  {
   "cell_type": "code",
   "execution_count": 46,
   "id": "e84d9f8a-7979-40c5-a7d4-2cfbbf745fa3",
   "metadata": {},
   "outputs": [],
   "source": [
    "# Ekans line\n",
    "ekans_data = scrap_pokemon_moves(\"Ekans\")\n",
    "pokemon.loc[23] = ekans_data\n",
    "arbok_data = scrap_pokemon_moves(\"Arbok\")\n",
    "pokemon.loc[24] = arbok_data"
   ]
  },
  {
   "cell_type": "code",
   "execution_count": 47,
   "id": "8916b987-9417-4a6b-b366-0e639e4701db",
   "metadata": {},
   "outputs": [],
   "source": [
    "#Pikachu line\n",
    "pikachu_data = scrap_pokemon_moves(\"Pikachu\")\n",
    "pokemon.loc[25] = pikachu_data\n",
    "raichu_data = scrap_pokemon_moves(\"Raichu\")\n",
    "pokemon.loc[26] = raichu_data\n"
   ]
  },
  {
   "cell_type": "code",
   "execution_count": 48,
   "id": "76da92f9-85f9-4230-aa75-8f83c6b9c3be",
   "metadata": {},
   "outputs": [],
   "source": [
    "#Sandshrew line\n",
    "sandshrew_data = scrap_pokemon_moves(\"Sandshrew\")\n",
    "pokemon.loc[27] = sandshrew_data\n",
    "sandslash_data = scrap_pokemon_moves(\"Sandslash\")\n",
    "pokemon.loc[28] = sandslash_data"
   ]
  },
  {
   "cell_type": "code",
   "execution_count": 49,
   "id": "0728f3cd-233a-4915-a68b-f1af3dc86dc2",
   "metadata": {},
   "outputs": [],
   "source": [
    "# nidoran female line\n",
    "nidoranf_data = scrap_pokemon_moves(\"Nidoran♀\")\n",
    "pokemon.loc[29] = nidoranf_data\n",
    "nidorina_data = scrap_pokemon_moves(\"Nidorina\")\n",
    "pokemon.loc[30] = nidorina_data\n",
    "nidoqueen_data = scrap_pokemon_moves(\"Nidoqueen\")\n",
    "pokemon.loc[31] = nidoqueen_data"
   ]
  },
  {
   "cell_type": "code",
   "execution_count": 50,
   "id": "aa029c04-ccab-4471-827a-1d8f0945f0d5",
   "metadata": {},
   "outputs": [],
   "source": [
    "# Nidoran male line\n",
    "nidoranm_data = scrap_pokemon_moves(\"Nidoran♂\")\n",
    "pokemon.loc[32] = nidoranm_data\n",
    "nidorino_data = scrap_pokemon_moves(\"Nidorino\")\n",
    "pokemon.loc[33] = nidorino_data\n",
    "nidoking_data = scrap_pokemon_moves(\"Nidoking\")\n",
    "pokemon.loc[34] = nidoking_data"
   ]
  },
  {
   "cell_type": "code",
   "execution_count": 51,
   "id": "bfbf8e76-045a-4f10-93d1-5155c93a4090",
   "metadata": {},
   "outputs": [],
   "source": [
    "#Clefairy line \n",
    "clefairy_data = scrap_pokemon_moves(\"Clefairy\")\n",
    "pokemon.loc[35] = clefairy_data\n",
    "clefable_data = scrap_pokemon_moves(\"Clefable\")\n",
    "pokemon.loc[36] = clefable_data"
   ]
  },
  {
   "cell_type": "code",
   "execution_count": 52,
   "id": "00868190-2f0e-49df-b14c-951283039218",
   "metadata": {},
   "outputs": [],
   "source": [
    "# Vulpix line\n",
    "vulpix_data = scrap_pokemon_moves(\"Vulpix\")\n",
    "pokemon.loc[37] = vulpix_data\n",
    "ninetails_data = scrap_pokemon_moves(\"Ninetales\")\n",
    "pokemon.loc[38] = ninetails_data"
   ]
  },
  {
   "cell_type": "code",
   "execution_count": 53,
   "id": "6d1b684c-543c-416f-9229-c61d215813c2",
   "metadata": {},
   "outputs": [],
   "source": [
    "# Jigglypuff line\n",
    "jigglypuff_data = scrap_pokemon_moves(\"Jigglypuff\")\n",
    "pokemon.loc[39] = jigglypuff_data\n",
    "wigglytuff_data = scrap_pokemon_moves(\"Wigglytuff\")\n",
    "pokemon.loc[40] = wigglytuff_data"
   ]
  },
  {
   "cell_type": "code",
   "execution_count": 54,
   "id": "33303de8-387e-4a43-802a-f2f3e1ff302d",
   "metadata": {},
   "outputs": [],
   "source": [
    "#Zubat line\n",
    "zubat_data = scrap_pokemon_moves(\"Zubat\")\n",
    "pokemon.loc[41] = zubat_data\n",
    "golbat_data = scrap_pokemon_moves(\"Golbat\")\n",
    "pokemon.loc[42] = golbat_data"
   ]
  },
  {
   "cell_type": "code",
   "execution_count": 55,
   "id": "2bb3255e-ea0c-46c5-938c-1721399f3849",
   "metadata": {},
   "outputs": [],
   "source": [
    "#Oddish line\n",
    "oddish_data = scrap_pokemon_moves(\"Oddish\")\n",
    "pokemon.loc[43] = oddish_data\n",
    "gloom_data = scrap_pokemon_moves(\"Gloom\")\n",
    "pokemon.loc[44] = gloom_data\n",
    "vileplume_data = scrap_pokemon_moves(\"Vileplume\")\n",
    "pokemon.loc[45] = vileplume_data"
   ]
  },
  {
   "cell_type": "code",
   "execution_count": 56,
   "id": "d58857eb-4a33-457e-8100-8748769424f0",
   "metadata": {},
   "outputs": [],
   "source": [
    "# paras line\n",
    "paras_data = scrap_pokemon_moves(\"Paras\")\n",
    "pokemon.loc[46] = paras_data\n",
    "parasect_data = scrap_pokemon_moves(\"Parasect\")\n",
    "pokemon.loc[47] = parasect_data"
   ]
  },
  {
   "cell_type": "code",
   "execution_count": 57,
   "id": "f77eafed-ea3a-445c-8dd2-25c75450cd69",
   "metadata": {},
   "outputs": [],
   "source": [
    "# Venonat line\n",
    "venonat_data = scrap_pokemon_moves(\"Venonat\")\n",
    "pokemon.loc[48] = venonat_data\n",
    "venomoth_data = scrap_pokemon_moves(\"Venomoth\")\n",
    "pokemon.loc[49] = venomoth_data"
   ]
  },
  {
   "cell_type": "code",
   "execution_count": 58,
   "id": "8e93cfd9-5b42-42ad-9c33-be5d1322ba8b",
   "metadata": {},
   "outputs": [],
   "source": [
    "# diglett line\n",
    "diglett_data = scrap_pokemon_moves(\"Diglett\")\n",
    "pokemon.loc[50] = diglett_data\n",
    "dugtrio_data = scrap_pokemon_moves(\"Dugtrio\")\n",
    "pokemon.loc[51] = dugtrio_data"
   ]
  },
  {
   "cell_type": "code",
   "execution_count": 59,
   "id": "705bcc1e-a563-4f17-9dff-f4b54b2a0487",
   "metadata": {},
   "outputs": [],
   "source": [
    "# meowth line\n",
    "meowth_data = scrap_pokemon_moves(\"Meowth\")\n",
    "pokemon.loc[52] = meowth_data\n",
    "persian_data = scrap_pokemon_moves(\"Persian\")\n",
    "pokemon.loc[53] = persian_data "
   ]
  },
  {
   "cell_type": "code",
   "execution_count": 60,
   "id": "d7e847e5-1fcb-4b24-89c7-623b611778fc",
   "metadata": {},
   "outputs": [],
   "source": [
    "# Psyduck line\n",
    "psyduck_data = scrap_pokemon_moves(\"Psyduck\")\n",
    "pokemon.loc[54] = psyduck_data\n",
    "golduck_data = scrap_pokemon_moves(\"Golduck\")\n",
    "pokemon.loc[55] = golduck_data"
   ]
  },
  {
   "cell_type": "code",
   "execution_count": 61,
   "id": "b90ef9df-6e15-4e37-adc2-b8562f65ec47",
   "metadata": {},
   "outputs": [],
   "source": [
    "# Mankey line \n",
    "mankey_data = scrap_pokemon_moves(\"Mankey\")\n",
    "pokemon.loc[56] = mankey_data\n",
    "primeape_data = scrap_pokemon_moves(\"Primeape\")\n",
    "pokemon.loc[57] = primeape_data"
   ]
  },
  {
   "cell_type": "code",
   "execution_count": 62,
   "id": "266f6616-31c2-47d3-85fb-2e3aaa4ff310",
   "metadata": {},
   "outputs": [],
   "source": [
    "# Growlithe line\n",
    "growlithe_data = scrap_pokemon_moves(\"Growlithe\")\n",
    "pokemon.loc[58] = growlithe_data\n",
    "arcanine_data = scrap_pokemon_moves(\"Arcanine\")\n",
    "pokemon.loc[59] = arcanine_data"
   ]
  },
  {
   "cell_type": "code",
   "execution_count": 63,
   "id": "daf6b7da-2533-4429-b3b6-4c8730319450",
   "metadata": {},
   "outputs": [],
   "source": [
    "# poliwag line\n",
    "poliwag_data = scrap_pokemon_moves(\"Poliwag\")\n",
    "pokemon.loc[60] = poliwag_data\n",
    "poliwhirl_data = scrap_pokemon_moves(\"Poliwhirl\")\n",
    "pokemon.loc[61] = poliwhirl_data\n",
    "poliwrath_data = scrap_pokemon_moves(\"Poliwrath\")\n",
    "pokemon.loc[62] = poliwrath_data"
   ]
  },
  {
   "cell_type": "code",
   "execution_count": 64,
   "id": "07595cff-d6da-4e87-88e8-26066501599b",
   "metadata": {},
   "outputs": [],
   "source": [
    "# Abra line \n",
    "abra_data = scrap_pokemon_moves(\"Abra\")\n",
    "pokemon.loc[63] = abra_data\n",
    "kadabra_data = scrap_pokemon_moves(\"Kadabra\")\n",
    "pokemon.loc[64] = kadabra_data\n",
    "alakazam_data = scrap_pokemon_moves(\"Alakazam\")\n",
    "pokemon.loc[65] = alakazam_data"
   ]
  },
  {
   "cell_type": "code",
   "execution_count": 65,
   "id": "d9e93763-b44d-4619-a163-bf15da88b700",
   "metadata": {},
   "outputs": [],
   "source": [
    "# Machop line\n",
    "machop_data = scrap_pokemon_moves(\"Machop\")\n",
    "pokemon.loc[66] = machop_data\n",
    "machoke_data = scrap_pokemon_moves(\"Machoke\")\n",
    "pokemon.loc[67] = machoke_data\n",
    "machamp_data = scrap_pokemon_moves(\"Machamp\")\n",
    "pokemon.loc[68] = machamp_data"
   ]
  },
  {
   "cell_type": "code",
   "execution_count": 66,
   "id": "82b6344d-f26b-4b88-9e10-9b86ef467e4a",
   "metadata": {},
   "outputs": [],
   "source": [
    "# bellsprout line \n",
    "bellsprout_data = scrap_pokemon_moves(\"Bellsprout\")\n",
    "pokemon.loc[69] = bellsprout_data\n",
    "weepinbell_data = scrap_pokemon_moves(\"Weepinbell\")\n",
    "pokemon.loc[70] = weepinbell_data\n",
    "victreebel_data = scrap_pokemon_moves(\"Victreebel\")\n",
    "pokemon.loc[71] = victreebel_data"
   ]
  },
  {
   "cell_type": "code",
   "execution_count": 67,
   "id": "5db7cf13-9e3b-43f6-b278-f61d0b6b203e",
   "metadata": {},
   "outputs": [],
   "source": [
    "# tentacool line\n",
    "tentacool_data = scrap_pokemon_moves(\"Tentacool\")\n",
    "pokemon.loc[72] = tentacool_data\n",
    "tentacruel_data = scrap_pokemon_moves(\"Tentacruel\")\n",
    "pokemon.loc[73] = tentacruel_data"
   ]
  },
  {
   "cell_type": "code",
   "execution_count": 68,
   "id": "8b115df6-c052-45b5-be6a-6cb42bf510bc",
   "metadata": {},
   "outputs": [],
   "source": [
    "# geodude line \n",
    "geodude_data = scrap_pokemon_moves(\"Geodude\")\n",
    "pokemon.loc[74] = geodude_data\n",
    "graveler_data = scrap_pokemon_moves(\"Graveler\")\n",
    "pokemon.loc[75] = graveler_data\n",
    "golem_data = scrap_pokemon_moves(\"Golem\")\n",
    "pokemon.loc[76] = golem_data"
   ]
  },
  {
   "cell_type": "code",
   "execution_count": 69,
   "id": "b2453d00-70e7-46f4-af77-0e777a8c46c6",
   "metadata": {},
   "outputs": [],
   "source": [
    "# ponyta line \n",
    "ponyta_data = scrap_pokemon_moves(\"Ponyta\")\n",
    "pokemon.loc[77] = ponyta_data\n",
    "rapidash_data = scrap_pokemon_moves(\"Rapidash\")\n",
    "pokemon.loc[78] = rapidash_data"
   ]
  },
  {
   "cell_type": "code",
   "execution_count": 70,
   "id": "8ba8cc25-8e60-42ae-acbc-94cadb2fe409",
   "metadata": {},
   "outputs": [],
   "source": [
    "# Slowpoke line \n",
    "slowpoke_data = scrap_pokemon_moves(\"Slowpoke\")\n",
    "pokemon.loc[79] = slowpoke_data\n",
    "slowbro_data = scrap_pokemon_moves(\"Slowbro\")\n",
    "pokemon.loc[80] = slowbro_data"
   ]
  },
  {
   "cell_type": "code",
   "execution_count": 72,
   "id": "0ec0ef64-c68f-4d46-8457-dacb09990683",
   "metadata": {},
   "outputs": [],
   "source": [
    "# magnemite line\n",
    "magnemite_data = scrap_pokemon_moves(\"Magnemite\")\n",
    "pokemon.loc[81] = magnemite_data\n",
    "magneton_data = scrap_pokemon_moves(\"Magneton\")\n",
    "pokemon.loc[82] = magneton_data"
   ]
  },
  {
   "cell_type": "code",
   "execution_count": 74,
   "id": "045e49a1-f1f8-4ddd-890b-cba9295f9192",
   "metadata": {},
   "outputs": [],
   "source": [
    "# Farfetch'd\n",
    "farfetch_data = scrap_pokemon_moves(\"Farfetch'd\")\n",
    "pokemon.loc[83] = farfetch_data"
   ]
  },
  {
   "cell_type": "code",
   "execution_count": 76,
   "id": "5b764b67-4fe2-46c2-bca0-61a9c3b578d6",
   "metadata": {},
   "outputs": [],
   "source": [
    "# doduo line\n",
    "doduo_data = scrap_pokemon_moves(\"Doduo\")\n",
    "pokemon.loc[84] = doduo_data\n",
    "dodrio_data = scrap_pokemon_moves(\"Dodrio\")\n",
    "pokemon.loc[85] = dodrio_data"
   ]
  },
  {
   "cell_type": "code",
   "execution_count": 77,
   "id": "b33e049b-df9d-45c0-9bb7-f33efeda566b",
   "metadata": {},
   "outputs": [],
   "source": [
    "# Seel line \n",
    "seel_data = scrap_pokemon_moves(\"Seel\")\n",
    "pokemon.loc[86] = seel_data\n",
    "dewgong_data = scrap_pokemon_moves(\"Dewgong\")\n",
    "pokemon.loc[87] = dewgong_data"
   ]
  },
  {
   "cell_type": "code",
   "execution_count": 78,
   "id": "f6af9819-5b56-40e3-a9ae-109166355432",
   "metadata": {},
   "outputs": [],
   "source": [
    "# grimer line \n",
    "grimer_data = scrap_pokemon_moves(\"Grimer\")\n",
    "pokemon.loc[88] = grimer_data\n",
    "muk_data = scrap_pokemon_moves(\"Muk\")\n",
    "pokemon.loc[89] = muk_data"
   ]
  },
  {
   "cell_type": "code",
   "execution_count": 79,
   "id": "b2c979ce-4fc9-4313-b1e1-d4eb5f85ca98",
   "metadata": {},
   "outputs": [],
   "source": [
    "# Shellder line \n",
    "shellder_data = scrap_pokemon_moves(\"Shellder\")\n",
    "pokemon.loc[90] = shellder_data\n",
    "cloyster_data = scrap_pokemon_moves(\"Cloyster\")\n",
    "pokemon.loc[91] = cloyster_data"
   ]
  },
  {
   "cell_type": "code",
   "execution_count": 80,
   "id": "3c0440f1-6ee7-44b7-a25e-4017274fc057",
   "metadata": {},
   "outputs": [],
   "source": [
    "# Gastly line\n",
    "gastly_data = scrap_pokemon_moves(\"Gastly\")\n",
    "pokemon.loc[92] = gastly_data\n",
    "haunter_data = scrap_pokemon_moves(\"Haunter\")\n",
    "pokemon.loc[93] = haunter_data\n",
    "gengar_data = scrap_pokemon_moves(\"Gengar\")\n",
    "pokemon.loc[94] = gengar_data"
   ]
  },
  {
   "cell_type": "code",
   "execution_count": 81,
   "id": "005bc8d4-acc5-4499-8323-9f6bd0d88e45",
   "metadata": {},
   "outputs": [],
   "source": [
    "# onix line \n",
    "onix_data = scrap_pokemon_moves(\"Onix\")\n",
    "pokemon.loc[95] = onix_data"
   ]
  },
  {
   "cell_type": "code",
   "execution_count": 82,
   "id": "7523827c-a43d-4159-91c4-cac023201714",
   "metadata": {},
   "outputs": [],
   "source": [
    "# drowzee line \n",
    "drowzee_data = scrap_pokemon_moves(\"Drowzee\")\n",
    "pokemon.loc[96] = drowzee_data\n",
    "hypno_data = scrap_pokemon_moves(\"Hypno\")\n",
    "pokemon.loc[97] = hypno_data"
   ]
  },
  {
   "cell_type": "code",
   "execution_count": 83,
   "id": "b00d18c2-180c-46e2-8854-ccb93ed572aa",
   "metadata": {},
   "outputs": [],
   "source": [
    "# Krabby line \n",
    "krabby_data = scrap_pokemon_moves(\"Krabby\")\n",
    "pokemon.loc[98] = krabby_data\n",
    "kingler_data = scrap_pokemon_moves(\"Kingler\")\n",
    "pokemon.loc[99] = kingler_data"
   ]
  },
  {
   "cell_type": "code",
   "execution_count": 84,
   "id": "9452a589-8608-4cd3-b7b5-55ecf8385730",
   "metadata": {},
   "outputs": [],
   "source": [
    "# voltorb line \n",
    "voltorb_data = scrap_pokemon_moves(\"Voltorb\")\n",
    "pokemon.loc[100] = voltorb_data\n",
    "electrode_data = scrap_pokemon_moves(\"Electrode\")\n",
    "pokemon.loc[101] = electrode_data"
   ]
  },
  {
   "cell_type": "code",
   "execution_count": 85,
   "id": "a887eb47-1ded-4320-9723-421361fd9637",
   "metadata": {},
   "outputs": [],
   "source": [
    "# Exeggcute line \n",
    "exeggcute_data = scrap_pokemon_moves(\"Exeggcute\")\n",
    "pokemon.loc[102] = exeggcute_data\n",
    "exeggutor_data = scrap_pokemon_moves(\"Exeggutor\")\n",
    "pokemon.loc[103] = exeggutor_data"
   ]
  },
  {
   "cell_type": "code",
   "execution_count": 86,
   "id": "7fda57e5-25f0-4922-9ac9-f6633ab80bf8",
   "metadata": {},
   "outputs": [],
   "source": [
    "# cubone line \n",
    "cubone_data = scrap_pokemon_moves(\"Cubone\")\n",
    "pokemon.loc[104] = cubone_data\n",
    "marowak_data = scrap_pokemon_moves(\"Marowak\")\n",
    "pokemon.loc[105] = marowak_data"
   ]
  },
  {
   "cell_type": "code",
   "execution_count": 87,
   "id": "05a36b3d-637b-4dce-8843-d3b70ee95510",
   "metadata": {},
   "outputs": [],
   "source": [
    "# hitmonlee line  and lickitung\n",
    "hitmonlee_data = scrap_pokemon_moves(\"Hitmonlee\")\n",
    "pokemon.loc[106] = hitmonlee_data\n",
    "hitmonchan_data = scrap_pokemon_moves(\"Hitmonchan\")\n",
    "pokemon.loc[107] = hitmonchan_data\n",
    "lickitung_data = scrap_pokemon_moves(\"Lickitung\")\n",
    "pokemon.loc[108] = lickitung_data"
   ]
  },
  {
   "cell_type": "code",
   "execution_count": 88,
   "id": "5af42c86-a7a8-47ae-91c4-cb63644b81d8",
   "metadata": {},
   "outputs": [],
   "source": [
    "# koffing\n",
    "koffing_data = scrap_pokemon_moves(\"Koffing\")\n",
    "pokemon.loc[109] = koffing_data\n",
    "weezing_data = scrap_pokemon_moves(\"Weezing\")\n",
    "pokemon.loc[110] = weezing_data"
   ]
  },
  {
   "cell_type": "code",
   "execution_count": 89,
   "id": "0d07d0e7-2118-4e21-b00a-9d144cad69b8",
   "metadata": {},
   "outputs": [],
   "source": [
    "# Rhyhorn line\n",
    "rhyhorn_data = scrap_pokemon_moves(\"Rhyhorn\")\n",
    "pokemon.loc[111] = rhyhorn_data\n",
    "rhydon_data = scrap_pokemon_moves(\"Rhydon\")\n",
    "pokemon.loc[112] = rhydon_data"
   ]
  },
  {
   "cell_type": "code",
   "execution_count": 90,
   "id": "1f855e18-1e79-47ed-acfe-0cbbfc78b5f4",
   "metadata": {},
   "outputs": [],
   "source": [
    "# Chansey line and tangela line\n",
    "chansey_data = scrap_pokemon_moves(\"Chansey\")\n",
    "pokemon.loc[113] = chansey_data\n",
    "tangela_data = scrap_pokemon_moves(\"Tangela\")\n",
    "pokemon.loc[114] = tangela_data"
   ]
  },
  {
   "cell_type": "code",
   "execution_count": 91,
   "id": "cd0709f7-d2a6-447e-8c3d-d5da7d75ffa2",
   "metadata": {},
   "outputs": [],
   "source": [
    "#Kangaskhan line\n",
    "kangaskhan_data = scrap_pokemon_moves(\"Kangaskhan\")\n",
    "pokemon.loc[115] = kangaskhan_data"
   ]
  },
  {
   "cell_type": "code",
   "execution_count": 92,
   "id": "9caa572a-b6dd-44e1-8b9d-3307fc5fc84d",
   "metadata": {},
   "outputs": [],
   "source": [
    "# horsea line \n",
    "horsea_data = scrap_pokemon_moves(\"Horsea\")\n",
    "pokemon.loc[116] = horsea_data\n",
    "seadra_data = scrap_pokemon_moves(\"Seadra\")\n",
    "pokemon.loc[117] = seadra_data"
   ]
  },
  {
   "cell_type": "code",
   "execution_count": 93,
   "id": "cb15cc1d-aee0-4e83-9ce8-961370e6839d",
   "metadata": {},
   "outputs": [],
   "source": [
    "# goldeen and staryu line\n",
    "goldeen_data = scrap_pokemon_moves(\"Goldeen\")\n",
    "pokemon.loc[118] = goldeen_data\n",
    "seaking_data = scrap_pokemon_moves(\"Seaking\")\n",
    "pokemon.loc[119] = seaking_data\n",
    "staryu_data = scrap_pokemon_moves(\"Staryu\")\n",
    "pokemon.loc[120] = staryu_data\n",
    "starmie_data = scrap_pokemon_moves(\"Starmie\")\n",
    "pokemon.loc[121] = starmie_data"
   ]
  },
  {
   "cell_type": "code",
   "execution_count": 7,
   "id": "7f817e2b-b475-4ef7-b65e-1ca42c6df40b",
   "metadata": {},
   "outputs": [],
   "source": [
    "# Mr mime line \n",
    "mrmime_data = scrap_pokemon_moves(\"Mr._Mime\")\n",
    "pokemon.loc[122] = mrmime_data"
   ]
  },
  {
   "cell_type": "code",
   "execution_count": 95,
   "id": "a4ec5d0c-a5ce-459c-a6f4-24fc277c262a",
   "metadata": {},
   "outputs": [],
   "source": [
    "# Scyther and jynx line \n",
    "scyther_data = scrap_pokemon_moves(\"Scyther\")\n",
    "pokemon.loc[123] = scyther_data\n",
    "jynx_data = scrap_pokemon_moves(\"Jynx\")\n",
    "pokemon.loc[124] = jynx_data"
   ]
  },
  {
   "cell_type": "code",
   "execution_count": 96,
   "id": "3059b96d-3c47-4371-9153-5993353f91ff",
   "metadata": {},
   "outputs": [],
   "source": [
    "# Electabuzz and Magmar and pinsir\n",
    "electabuzz_data = scrap_pokemon_moves(\"Electabuzz\")\n",
    "pokemon.loc[125] = electabuzz_data\n",
    "magmar_data = scrap_pokemon_moves(\"Magmar\")\n",
    "pokemon.loc[126] = magmar_data\n",
    "pinsir_data = scrap_pokemon_moves(\"Pinsir\")\n",
    "pokemon.loc[127] = pinsir_data"
   ]
  },
  {
   "cell_type": "code",
   "execution_count": 97,
   "id": "488e5c1d-d885-4746-8fe0-98c396737744",
   "metadata": {},
   "outputs": [],
   "source": [
    "# Tauros and magicarp line\n",
    "tauros_data = scrap_pokemon_moves(\"Tauros\")\n",
    "pokemon.loc[128] = tauros_data\n",
    "magikarp_data = scrap_pokemon_moves(\"Magikarp\")\n",
    "pokemon.loc[129] = magikarp_data\n",
    "gyarados_data = scrap_pokemon_moves(\"Gyarados\")\n",
    "pokemon.loc[130] = gyarados_data"
   ]
  },
  {
   "cell_type": "code",
   "execution_count": 98,
   "id": "c3ae6621-d46a-4904-a6c9-7b7f173c9d3f",
   "metadata": {},
   "outputs": [],
   "source": [
    "# Lapras, ditto\n",
    "lapras_data = scrap_pokemon_moves(\"Lapras\")\n",
    "pokemon.loc[131] = lapras_data\n",
    "ditto_data = scrap_pokemon_moves(\"Ditto\")\n",
    "pokemon.loc[132] = ditto_data"
   ]
  },
  {
   "cell_type": "code",
   "execution_count": 99,
   "id": "da30a974-2bad-4a8b-bbf1-1feadb84b308",
   "metadata": {},
   "outputs": [],
   "source": [
    "# Eevee line\n",
    "eevee_data = scrap_pokemon_moves(\"Eevee\")\n",
    "pokemon.loc[133] = eevee_data\n",
    "vaporeon_data = scrap_pokemon_moves(\"Vaporeon\")\n",
    "pokemon.loc[134] = vaporeon_data\n",
    "jolteon_data = scrap_pokemon_moves(\"Jolteon\")\n",
    "pokemon.loc[135] = jolteon_data\n",
    "flareon_data = scrap_pokemon_moves(\"Flareon\")\n",
    "pokemon.loc[136] = flareon_data"
   ]
  },
  {
   "cell_type": "code",
   "execution_count": 100,
   "id": "954f7cdb-cbff-4860-8657-aedf4ede5638",
   "metadata": {},
   "outputs": [],
   "source": [
    "# porygon and omanyte and kabuto line \n",
    "porygon_data = scrap_pokemon_moves(\"Porygon\")\n",
    "pokemon.loc[137] = porygon_data\n",
    "omanyte_data = scrap_pokemon_moves(\"Omanyte\")\n",
    "pokemon.loc[138] = omanyte_data\n",
    "omastar_data = scrap_pokemon_moves(\"Omastar\")\n",
    "pokemon.loc[139] = omastar_data\n",
    "kabuto_data = scrap_pokemon_moves(\"Kabuto\")\n",
    "pokemon.loc[140] = kabuto_data\n",
    "kabutops_data = scrap_pokemon_moves(\"Kabutops\")\n",
    "pokemon.loc[141] = kabutops_data"
   ]
  },
  {
   "cell_type": "code",
   "execution_count": 101,
   "id": "1b972587-8ee1-4d9c-83ea-020e2a840085",
   "metadata": {},
   "outputs": [],
   "source": [
    "# Aerodactyl line and snorlax line\n",
    "aerodactyl_data = scrap_pokemon_moves(\"Aerodactyl\")\n",
    "pokemon.loc[142] = aerodactyl_data\n",
    "snorlax_data = scrap_pokemon_moves(\"Snorlax\")\n",
    "pokemon.loc[143] = snorlax_data"
   ]
  },
  {
   "cell_type": "code",
   "execution_count": 102,
   "id": "c9e2d0e5-3cf5-43f5-9423-f9c43952e0d0",
   "metadata": {},
   "outputs": [],
   "source": [
    "# Legendary birds\n",
    "articuno_data = scrap_pokemon_moves(\"Articuno\")\n",
    "pokemon.loc[144] = articuno_data\n",
    "zapdos_data = scrap_pokemon_moves(\"Zapdos\") \n",
    "pokemon.loc[145] = zapdos_data\n",
    "moltres_data = scrap_pokemon_moves(\"Moltres\")\n",
    "pokemon.loc[146] = moltres_data"
   ]
  },
  {
   "cell_type": "code",
   "execution_count": 103,
   "id": "5aaae6ed-17b7-48b9-a57a-50b98b02f96d",
   "metadata": {},
   "outputs": [],
   "source": [
    "# Dratini line \n",
    "dratini_data = scrap_pokemon_moves(\"Dratini\")\n",
    "pokemon.loc[147] = dratini_data\n",
    "dragonair_data = scrap_pokemon_moves(\"Dragonair\")\n",
    "pokemon.loc[148] = dragonair_data\n",
    "dragonite_data = scrap_pokemon_moves(\"Dragonite\")\n",
    "pokemon.loc[149] = dragonite_data"
   ]
  },
  {
   "cell_type": "code",
   "execution_count": 104,
   "id": "47b4cb60-95ca-420d-a64a-f23a7b34696a",
   "metadata": {},
   "outputs": [],
   "source": [
    "# Mew and mewtwo \n",
    "mewtwo_data = scrap_pokemon_moves(\"Mewtwo\")\n",
    "pokemon.loc[150] = mewtwo_data\n",
    "mew_data = scrap_pokemon_moves(\"Mew\")\n",
    "pokemon.loc[151] = mew_data"
   ]
  },
  {
   "cell_type": "code",
   "execution_count": 105,
   "id": "573c594a-4555-4975-91ff-0cde99416de3",
   "metadata": {},
   "outputs": [],
   "source": [
    "# Chikorita line \n",
    "chikorita = scrap_pokemon_moves(\"Chikorita\")\n",
    "pokemon.loc[152] = chikorita\n",
    "bayleef = scrap_pokemon_moves(\"Bayleef\")\n",
    "pokemon.loc[153] = bayleef\n",
    "meganium = scrap_pokemon_moves(\"Meganium\")\n",
    "pokemon.loc[154] = meganium"
   ]
  },
  {
   "cell_type": "code",
   "execution_count": 106,
   "id": "92141cf3-1a81-4f85-b93e-b1767a895865",
   "metadata": {},
   "outputs": [],
   "source": [
    "# Cyndaquil line\n",
    "cyndaquil = scrap_pokemon_moves(\"Cyndaquil\")\n",
    "pokemon.loc[155] = cyndaquil\n",
    "quilava = scrap_pokemon_moves(\"Quilava\")\n",
    "pokemon.loc[156] = quilava\n",
    "typhlosion = scrap_pokemon_moves(\"Typhlosion\")\n",
    "pokemon.loc[157] = typhlosion"
   ]
  },
  {
   "cell_type": "code",
   "execution_count": 107,
   "id": "0ee5e72b-6449-4e4e-8228-0f4c89fa6cc3",
   "metadata": {},
   "outputs": [],
   "source": [
    "# totodile line \n",
    "totodile = scrap_pokemon_moves(\"Totodile\")\n",
    "pokemon.loc[158] = totodile\n",
    "croconaw = scrap_pokemon_moves(\"Croconaw\")\n",
    "pokemon.loc[159] = croconaw\n",
    "feraligatr = scrap_pokemon_moves(\"Feraligatr\")\n",
    "pokemon.loc[160] = feraligatr"
   ]
  },
  {
   "cell_type": "code",
   "execution_count": 108,
   "id": "d17a0d1d-36bf-4c75-b27c-abb62db2c3af",
   "metadata": {},
   "outputs": [],
   "source": [
    "# sentret line \n",
    "sentret = scrap_pokemon_moves(\"Sentret\")\n",
    "pokemon.loc[161] = sentret\n",
    "furret = scrap_pokemon_moves(\"Furret\")\n",
    "pokemon.loc[162] = furret"
   ]
  },
  {
   "cell_type": "code",
   "execution_count": 109,
   "id": "30f1f9e7-786a-417e-b743-4c079095b4d8",
   "metadata": {},
   "outputs": [],
   "source": [
    "# hoothoot line \n",
    "hoothoot = scrap_pokemon_moves(\"Hoothoot\")\n",
    "pokemon.loc[163] = hoothoot\n",
    "noctowl = scrap_pokemon_moves(\"Noctowl\")\n",
    "pokemon.loc[164] = noctowl"
   ]
  },
  {
   "cell_type": "code",
   "execution_count": 110,
   "id": "f942521c-48e6-4f99-9ed3-932368fca9b3",
   "metadata": {},
   "outputs": [],
   "source": [
    "# ledyba and spinarak line \n",
    "ledyba = scrap_pokemon_moves(\"Ledyba\")\n",
    "pokemon.loc[165] = ledyba\n",
    "ledian = scrap_pokemon_moves(\"Ledian\")\n",
    "pokemon.loc[166] = ledian\n",
    "spinarak = scrap_pokemon_moves(\"Spinarak\")\n",
    "pokemon.loc[167] = spinarak\n",
    "ariados = scrap_pokemon_moves(\"Ariados\")\n",
    "pokemon.loc[168] = ariados"
   ]
  },
  {
   "cell_type": "code",
   "execution_count": 111,
   "id": "28184023-6c21-484c-bbb4-0f9f11a5da89",
   "metadata": {},
   "outputs": [],
   "source": [
    "# Crobat and chichou line \n",
    "crobat = scrap_pokemon_moves(\"Crobat\")\n",
    "pokemon.loc[169] = crobat\n",
    "chinchou = scrap_pokemon_moves(\"Chinchou\")\n",
    "pokemon.loc[170] = chinchou\n",
    "lanturn = scrap_pokemon_moves(\"Lanturn\")\n",
    "pokemon.loc[171] = lanturn"
   ]
  },
  {
   "cell_type": "code",
   "execution_count": 112,
   "id": "a8dffca1-83dd-4d24-8fd3-1f6cf44b51af",
   "metadata": {},
   "outputs": [],
   "source": [
    "# baby pokemon\n",
    "pichu = scrap_pokemon_moves(\"Pichu\")\n",
    "pokemon.loc[172] = pichu\n",
    "cleffa = scrap_pokemon_moves(\"Cleffa\")\n",
    "pokemon.loc[173] = cleffa\n",
    "igglybuff = scrap_pokemon_moves(\"Igglybuff\")\n",
    "pokemon.loc[174] = igglybuff\n",
    "togepi = scrap_pokemon_moves(\"Togepi\")\n",
    "pokemon.loc[175] = togepi \n",
    "togetic = scrap_pokemon_moves(\"Togetic\")\n",
    "pokemon.loc[176] = togetic"
   ]
  },
  {
   "cell_type": "code",
   "execution_count": 113,
   "id": "ef8ece87-6862-48f5-bbce-1b034c539ad1",
   "metadata": {},
   "outputs": [],
   "source": [
    "# natu line \n",
    "natu = scrap_pokemon_moves(\"Natu\")\n",
    "pokemon.loc[177] = natu\n",
    "xatu = scrap_pokemon_moves(\"Xatu\")\n",
    "pokemon.loc[178] = xatu"
   ]
  },
  {
   "cell_type": "code",
   "execution_count": 114,
   "id": "52064f14-7450-48f2-aea0-1101e4d620bf",
   "metadata": {},
   "outputs": [],
   "source": [
    "# mareep line\n",
    "mareep = scrap_pokemon_moves(\"Mareep\")\n",
    "pokemon.loc[179] = mareep\n",
    "flaaffy = scrap_pokemon_moves(\"Flaaffy\")\n",
    "pokemon.loc[180] = flaaffy\n",
    "ampharos = scrap_pokemon_moves(\"Ampharos\")\n",
    "pokemon.loc[181] = ampharos"
   ]
  },
  {
   "cell_type": "code",
   "execution_count": 115,
   "id": "2f9cf9c4-ce61-4dfd-aa2a-2882251739c3",
   "metadata": {},
   "outputs": [],
   "source": [
    "# bellossom and maril\n",
    "bellossom = scrap_pokemon_moves(\"Bellossom\")\n",
    "pokemon.loc[182] = bellossom\n",
    "marill = scrap_pokemon_moves(\"Marill\")\n",
    "pokemon.loc[183] = marill\n",
    "azumarill = scrap_pokemon_moves(\"Azumarill\")\n",
    "pokemon.loc[184] = azumarill\n",
    "sudowoodo = scrap_pokemon_moves(\"Sudowoodo\")\n",
    "pokemon.loc[185] = sudowoodo\n",
    "politoed = scrap_pokemon_moves(\"Politoed\")\n",
    "pokemon.loc[186] = politoed"
   ]
  },
  {
   "cell_type": "code",
   "execution_count": 116,
   "id": "dfd6f062-7502-4d17-b54d-83723132d339",
   "metadata": {},
   "outputs": [],
   "source": [
    "# hopip line\n",
    "hoppip = scrap_pokemon_moves(\"Hoppip\")\n",
    "pokemon.loc[187] = hoppip\n",
    "skiploom = scrap_pokemon_moves(\"Skiploom\")\n",
    "pokemon.loc[188] = skiploom\n",
    "jumpluff = scrap_pokemon_moves(\"Jumpluff\")\n",
    "pokemon.loc[189] = jumpluff"
   ]
  },
  {
   "cell_type": "code",
   "execution_count": 117,
   "id": "4e916a4e-56de-4c6b-882b-807dafe38f3d",
   "metadata": {},
   "outputs": [],
   "source": [
    "# Aipom, sunkern\n",
    "aipom = scrap_pokemon_moves(\"Aipom\")\n",
    "pokemon.loc[190] = aipom\n",
    "sunkern = scrap_pokemon_moves(\"Sunkern\")\n",
    "pokemon.loc[191] = sunkern\n",
    "sunflora = scrap_pokemon_moves(\"Sunflora\")\n",
    "pokemon.loc[192] = sunflora\n",
    "yanma = scrap_pokemon_moves(\"Yanma\")\n",
    "pokemon.loc[193] = yanma"
   ]
  },
  {
   "cell_type": "code",
   "execution_count": 118,
   "id": "79b7095e-7056-4bd5-ab0f-0584d5e888bf",
   "metadata": {},
   "outputs": [],
   "source": [
    "# wooper\n",
    "wooper = scrap_pokemon_moves(\"Wooper\")\n",
    "pokemon.loc[194] = wooper\n",
    "quagsire = scrap_pokemon_moves(\"Quagsire\")\n",
    "pokemon.loc[195] = quagsire"
   ]
  },
  {
   "cell_type": "code",
   "execution_count": 119,
   "id": "3674629f-1721-45fa-946a-da4e6e2df42e",
   "metadata": {},
   "outputs": [],
   "source": [
    "# Eevvelutions\n",
    "espeon = scrap_pokemon_moves(\"Espeon\")\n",
    "pokemon.loc[196] = espeon\n",
    "umbreon = scrap_pokemon_moves(\"Umbreon\")\n",
    "pokemon.loc[197] = umbreon\n",
    "murkrow = scrap_pokemon_moves(\"Murkrow\")\n",
    "pokemon.loc[198] = murkrow"
   ]
  },
  {
   "cell_type": "code",
   "execution_count": 18,
   "id": "c287dbad-ceb7-4425-b730-030dc0c4f10c",
   "metadata": {},
   "outputs": [],
   "source": [
    "# Slowking\n",
    "slowking = scrap_pokemon_moves(\"Slowking\")\n",
    "pokemon.loc[199] = slowking\n",
    "misdreavus = scrap_pokemon_moves(\"Misdreavus\")\n",
    "pokemon.loc[200] = misdreavus\n",
    "unown = scrap_pokemon_moves(\"Unown\")\n",
    "pokemon.loc[201] = unown\n",
    "wobbuffet = scrap_pokemon_moves(\"Wobbuffet\")\n",
    "pokemon.loc[202] = wobbuffet\n",
    "girafarig = scrap_pokemon_moves(\"Girafarig\")\n",
    "pokemon.loc[203] = girafarig"
   ]
  },
  {
   "cell_type": "code",
   "execution_count": 121,
   "id": "fd14d1fa-e3f5-4e34-bfac-d1f7fa90db43",
   "metadata": {},
   "outputs": [],
   "source": [
    "# Pineco line\n",
    "pineco = scrap_pokemon_moves(\"Pineco\")\n",
    "pokemon.loc[204] = pineco\n",
    "forretress = scrap_pokemon_moves(\"Forretress\")\n",
    "pokemon.loc[205] = forretress\n",
    "pokemon.loc[206] = scrap_pokemon_moves(\"Dunsparce\")"
   ]
  },
  {
   "cell_type": "code",
   "execution_count": 122,
   "id": "bf3bad16-fde0-47c7-88a6-690054aed835",
   "metadata": {},
   "outputs": [],
   "source": [
    "# gligar, sleelix\n",
    "pokemon.loc[207] = scrap_pokemon_moves(\"Gligar\")\n",
    "steelix = scrap_pokemon_moves(\"Steelix\")\n",
    "pokemon.loc[208] = steelix\n",
    "pokemon.loc[209] = scrap_pokemon_moves(\"Snubbull\")\n",
    "pokemon.loc[210] = scrap_pokemon_moves(\"Granbull\")"
   ]
  },
  {
   "cell_type": "code",
   "execution_count": 123,
   "id": "a3d68adf-52cb-4c7f-b9ea-493f33d59ce2",
   "metadata": {},
   "outputs": [],
   "source": [
    "# Qilfish and scizor\n",
    "pokemon.loc[211] = scrap_pokemon_moves(\"Qwilfish\")\n",
    "scizor = scrap_pokemon_moves(\"Scizor\")\n",
    "pokemon.loc[212] = scizor\n",
    "pokemon.loc[213] = scrap_pokemon_moves(\"Shuckle\")"
   ]
  },
  {
   "cell_type": "code",
   "execution_count": 124,
   "id": "47e0350e-7207-4994-b1e7-05c50753a962",
   "metadata": {},
   "outputs": [],
   "source": [
    "# Herracross\n",
    "heracross = scrap_pokemon_moves(\"Heracross\")\n",
    "pokemon.loc[214] = heracross\n",
    "pokemon.loc[215] = scrap_pokemon_moves(\"Sneasel\")\n",
    "pokemon.loc[216] = scrap_pokemon_moves(\"Teddiursa\")\n",
    "pokemon.loc[217] = scrap_pokemon_moves(\"Ursaring\")\n",
    "pokemon.loc[218] = scrap_pokemon_moves(\"Slugma\")\n",
    "pokemon.loc[219] = scrap_pokemon_moves(\"Magcargo\")\n",
    "pokemon.loc[220] = scrap_pokemon_moves(\"Swinub\")\n",
    "pokemon.loc[221] = scrap_pokemon_moves(\"Piloswine\")"
   ]
  },
  {
   "cell_type": "code",
   "execution_count": 125,
   "id": "a7c10a4a-5192-4abf-9fbb-14a4b46d83d8",
   "metadata": {},
   "outputs": [],
   "source": [
    "# corsola - houndoom\n",
    "corsola = scrap_pokemon_moves(\"Corsola\")\n",
    "pokemon.loc[222] = corsola\n",
    "pokemon.loc[223] = scrap_pokemon_moves(\"Remoraid\")\n",
    "pokemon.loc[224] = scrap_pokemon_moves(\"Octillery\")\n",
    "pokemon.loc[225] = scrap_pokemon_moves(\"Delibird\")\n",
    "pokemon.loc[226] = scrap_pokemon_moves(\"Mantine\")\n",
    "pokemon.loc[227] = scrap_pokemon_moves(\"Skarmory\")\n",
    "pokemon.loc[228] = scrap_pokemon_moves(\"Houndour\")\n",
    "houndoom = scrap_pokemon_moves(\"Houndoom\")\n",
    "pokemon.loc[229] = houndoom"
   ]
  },
  {
   "cell_type": "code",
   "execution_count": null,
   "id": "4b440bf8-1ba3-47ba-9e58-43ba47a5aa63",
   "metadata": {},
   "outputs": [],
   "source": [
    "# kingdra\n",
    "pokemon.loc[230] = scrap_pokemon_moves(\"Kingdra\")\n",
    "pokemon.loc[231] = scrap_pokemon_moves(\"Phanpy\")\n",
    "pokemon.loc[232] = scrap_pokemon_moves(\"Donphan\")\n",
    "pokemon.loc[233] = scrap_pokemon_moves(\"Porygon2\")\n",
    "pokemon.loc[234] = scrap_pokemon_moves(\"Stantler\")\n",
    "pokemon.loc[235] = scrap_pokemon_moves(\"Smeargle\")\n",
    "pokemon.loc[236] = scrap_pokemon_moves(\"Tyrogue\")\n",
    "pokemon.loc[237] = scrap_pokemon_moves(\"Hitmontop\")\n",
    "pokemon.loc[238] = scrap_pokemon_moves(\"Smoochum\")\n",
    "pokemon.loc[239] = scrap_pokemon_moves(\"Elekid\")\n",
    "pokemon.loc[240] = scrap_pokemon_moves(\"Magby\")"
   ]
  },
  {
   "cell_type": "code",
   "execution_count": 127,
   "id": "17b925cf-e7ea-4815-a146-7f78cf674bf0",
   "metadata": {},
   "outputs": [],
   "source": [
    "# Milktank\n",
    "pokemon.loc[241] = scrap_pokemon_moves(\"Miltank\")\n",
    "pokemon.loc[242] = scrap_pokemon_moves(\"Blissey\")"
   ]
  },
  {
   "cell_type": "code",
   "execution_count": 128,
   "id": "402c97d9-78ce-4c36-a178-2087a3f54395",
   "metadata": {},
   "outputs": [],
   "source": [
    "#Legendary beasts\n",
    "raikou = scrap_pokemon_moves(\"Raikou\")\n",
    "pokemon.loc[243] = raikou\n",
    "entei = scrap_pokemon_moves(\"Entei\")\n",
    "pokemon.loc[244] = entei\n",
    "suicune = scrap_pokemon_moves(\"Suicune\")\n",
    "pokemon.loc[245] = suicune"
   ]
  },
  {
   "cell_type": "code",
   "execution_count": 129,
   "id": "0cd3fdeb-5900-43f5-9f76-60c420002004",
   "metadata": {},
   "outputs": [],
   "source": [
    "# larvitar line \n",
    "pokemon.loc[246] = scrap_pokemon_moves(\"Larvitar\")\n",
    "pokemon.loc[247] = scrap_pokemon_moves(\"Pupitar\")\n",
    "tyranitar = scrap_pokemon_moves(\"Tyranitar\")\n",
    "pokemon.loc[248] = tyranitar\n",
    "pokemon.loc[249] = scrap_pokemon_moves(\"Lugia\")\n",
    "pokemon.loc[250] = scrap_pokemon_moves(\"Ho-Oh\")\n",
    "pokemon.loc[251] = scrap_pokemon_moves(\"Celebi\")"
   ]
  },
  {
   "cell_type": "code",
   "execution_count": 130,
   "id": "c52c010e-fdd5-46c9-a916-82e6d68a6af9",
   "metadata": {},
   "outputs": [],
   "source": [
    "# treeko line \n",
    "pokemon.loc[252] = scrap_pokemon_moves(\"Treecko\")\n",
    "pokemon.loc[253] = scrap_pokemon_moves(\"Grovyle\")\n",
    "sceptile = scrap_pokemon_moves(\"Sceptile\")\n",
    "pokemon.loc[254] = sceptile"
   ]
  },
  {
   "cell_type": "code",
   "execution_count": 131,
   "id": "19b1ab69-10dd-48b5-93d3-b39e194ed22d",
   "metadata": {},
   "outputs": [],
   "source": [
    "# torchic line\n",
    "pokemon.loc[255] = scrap_pokemon_moves(\"Torchic\")\n",
    "pokemon.loc[256] = scrap_pokemon_moves(\"Combusken\")\n",
    "blaziken = scrap_pokemon_moves(\"Blaziken\")\n",
    "pokemon.loc[257] = blaziken"
   ]
  },
  {
   "cell_type": "code",
   "execution_count": 132,
   "id": "54664e5b-3fa2-4f66-97e5-41f6e3929295",
   "metadata": {},
   "outputs": [],
   "source": [
    "# mudkip line\n",
    "pokemon.loc[258] = scrap_pokemon_moves(\"Mudkip\")\n",
    "pokemon.loc[259] = scrap_pokemon_moves(\"Marshtomp\")\n",
    "swampert = scrap_pokemon_moves(\"Swampert\")\n",
    "pokemon.loc[260] = swampert"
   ]
  },
  {
   "cell_type": "code",
   "execution_count": 133,
   "id": "7aa2effd-97ac-4139-9c41-b24b0bc5bb28",
   "metadata": {},
   "outputs": [],
   "source": [
    "# poochyena\n",
    "pokemon.loc[261] = scrap_pokemon_moves(\"Poochyena\")\n",
    "pokemon.loc[262] = scrap_pokemon_moves(\"Mightyena\")\n",
    "pokemon.loc[263] = scrap_pokemon_moves(\"Zigzagoon\")\n",
    "pokemon.loc[264] = scrap_pokemon_moves(\"Linoone\")"
   ]
  },
  {
   "cell_type": "code",
   "execution_count": 134,
   "id": "6e1f94e1-c7b8-4208-9cf7-fb22d209ae33",
   "metadata": {},
   "outputs": [],
   "source": [
    "# Wurmple line and lotad and seedot\n",
    "pokemon.loc[265] = scrap_pokemon_moves(\"Wurmple\")\n",
    "pokemon.loc[266] = scrap_pokemon_moves(\"Silcoon\")\n",
    "pokemon.loc[267] = scrap_pokemon_moves(\"Beautifly\")\n",
    "pokemon.loc[268] = scrap_pokemon_moves(\"Cascoon\")\n",
    "pokemon.loc[269] = scrap_pokemon_moves(\"Dustox\")\n",
    "pokemon.loc[270] = scrap_pokemon_moves(\"Lotad\")\n",
    "pokemon.loc[271] = scrap_pokemon_moves(\"Lombre\")\n",
    "pokemon.loc[272] = scrap_pokemon_moves(\"Ludicolo\")\n",
    "pokemon.loc[273] = scrap_pokemon_moves(\"Seedot\")\n",
    "pokemon.loc[274] = scrap_pokemon_moves(\"Nuzleaf\")"
   ]
  },
  {
   "cell_type": "code",
   "execution_count": 6,
   "id": "6c17322d-7b5e-44c3-962f-ed8672057a41",
   "metadata": {},
   "outputs": [],
   "source": [
    "# shiftry Tailow line and wingull\n",
    "shiftry = scrap_pokemon_moves(\"Shiftry\")\n",
    "pokemon.loc[275] = shiftry\n",
    "pokemon.loc[276] = scrap_pokemon_moves(\"Taillow\")\n",
    "pokemon.loc[277] = scrap_pokemon_moves(\"Swellow\")\n",
    "pokemon.loc[278] = scrap_pokemon_moves(\"Wingull\")\n",
    "pokemon.loc[279] = scrap_pokemon_moves(\"Pelipper\")"
   ]
  },
  {
   "cell_type": "code",
   "execution_count": 7,
   "id": "c984dfc5-b2f7-43a1-b0a6-52cb852277a1",
   "metadata": {},
   "outputs": [],
   "source": [
    "# ralts line \n",
    "pokemon.loc[280] = scrap_pokemon_moves(\"Ralts\")\n",
    "pokemon.loc[281] = scrap_pokemon_moves(\"Kirlia\")\n",
    "gardevoir = scrap_pokemon_moves(\"Gardevoir\")\n",
    "pokemon.loc[282] = gardevoir"
   ]
  },
  {
   "cell_type": "code",
   "execution_count": 8,
   "id": "887e3d79-3c5f-458c-8fba-3dc4daa22ed0",
   "metadata": {},
   "outputs": [],
   "source": [
    "# surskit line and shroomish and slakoth\n",
    "pokemon.loc[283] = scrap_pokemon_moves(\"Surskit\")\n",
    "pokemon.loc[284] = scrap_pokemon_moves(\"Masquerain\")\n",
    "pokemon.loc[285] = scrap_pokemon_moves(\"Shroomish\")\n",
    "pokemon.loc[286] = scrap_pokemon_moves(\"Breloom\")\n",
    "pokemon.loc[287] = scrap_pokemon_moves(\"Slakoth\")\n",
    "pokemon.loc[288] = scrap_pokemon_moves(\"Vigoroth\")\n",
    "pokemon.loc[289] = scrap_pokemon_moves(\"Slaking\")"
   ]
  },
  {
   "cell_type": "code",
   "execution_count": 9,
   "id": "37f3d2b0-12d4-426e-a29d-fd4a5b5b44e5",
   "metadata": {},
   "outputs": [],
   "source": [
    "# nincada line and whismur \n",
    "pokemon.loc[290] = scrap_pokemon_moves(\"Nincada\")\n",
    "pokemon.loc[291] = scrap_pokemon_moves(\"Ninjask\")\n",
    "pokemon.loc[292] = scrap_pokemon_moves(\"Shedinja\")\n",
    "pokemon.loc[293] = scrap_pokemon_moves(\"Whismur\")\n",
    "pokemon.loc[294] = scrap_pokemon_moves(\"Loudred\")\n",
    "pokemon.loc[295] = scrap_pokemon_moves(\"Exploud\")"
   ]
  },
  {
   "cell_type": "code",
   "execution_count": 10,
   "id": "ba525986-f1a5-410e-bee6-8be3842213a0",
   "metadata": {},
   "outputs": [],
   "source": [
    "# makuhita and skitty\n",
    "pokemon.loc[296] = scrap_pokemon_moves(\"Makuhita\")\n",
    "pokemon.loc[297] = scrap_pokemon_moves(\"Hariyama\")\n",
    "pokemon.loc[298] = scrap_pokemon_moves(\"Azurill\")\n",
    "pokemon.loc[299] = scrap_pokemon_moves(\"Nosepass\")\n",
    "pokemon.loc[300] = scrap_pokemon_moves(\"Skitty\")\n",
    "pokemon.loc[301] = scrap_pokemon_moves(\"Delcatty\")"
   ]
  },
  {
   "cell_type": "code",
   "execution_count": 11,
   "id": "ddf68a13-12c6-46f0-8430-2bade0d4912e",
   "metadata": {},
   "outputs": [],
   "source": [
    "# sableye\n",
    "sableye = scrap_pokemon_moves(\"Sableye\")\n",
    "pokemon.loc[302] = sableye\n",
    "mawile = scrap_pokemon_moves(\"Mawile\")\n",
    "pokemon.loc[303] = mawile"
   ]
  },
  {
   "cell_type": "code",
   "execution_count": 12,
   "id": "12db73ce-b692-49b0-aca0-12c64f9eafbf",
   "metadata": {},
   "outputs": [],
   "source": [
    "# Aron line'\n",
    "pokemon.loc[304] = scrap_pokemon_moves(\"Aron\")\n",
    "pokemon.loc[305] = scrap_pokemon_moves(\"Lairon\")\n",
    "aggron = scrap_pokemon_moves(\"Aggron\")\n",
    "pokemon.loc[306] = aggron"
   ]
  },
  {
   "cell_type": "code",
   "execution_count": 13,
   "id": "0becfe4b-b07f-41c3-ae38-fcfca090240d",
   "metadata": {},
   "outputs": [],
   "source": [
    "# meditate and electric\n",
    "pokemon.loc[307] = scrap_pokemon_moves(\"Meditite\")\n",
    "medicham = scrap_pokemon_moves(\"Medicham\")\n",
    "pokemon.loc[308] = medicham\n",
    "pokemon.loc[309] = scrap_pokemon_moves(\"Electrike\")\n",
    "manectric = scrap_pokemon_moves(\"Manectric\")\n",
    "pokemon.loc[310] = manectric"
   ]
  },
  {
   "cell_type": "code",
   "execution_count": 14,
   "id": "6aef2050-2481-4859-90d8-00c7fb69e86b",
   "metadata": {},
   "outputs": [],
   "source": [
    "# plusle\n",
    "pokemon.loc[311] = scrap_pokemon_moves(\"Plusle\")\n",
    "pokemon.loc[312] = scrap_pokemon_moves(\"Minun\")\n",
    "pokemon.loc[313] = scrap_pokemon_moves(\"Volbeat\")\n",
    "pokemon.loc[314] = scrap_pokemon_moves(\"Illumise\")\n",
    "pokemon.loc[315] = scrap_pokemon_moves(\"Roselia\")\n",
    "pokemon.loc[316] = scrap_pokemon_moves(\"Gulpin\")\n",
    "pokemon.loc[317] = scrap_pokemon_moves(\"Swalot\")"
   ]
  },
  {
   "cell_type": "code",
   "execution_count": 15,
   "id": "14bdb8fc-efbf-4290-a5bf-46544ea7ae7f",
   "metadata": {},
   "outputs": [],
   "source": [
    "# carvanah line\n",
    "pokemon.loc[318] = scrap_pokemon_moves(\"Carvanha\")\n",
    "sharpedo = scrap_pokemon_moves(\"Sharpedo\")\n",
    "pokemon.loc[319] = sharpedo\n",
    "pokemon.loc[320] = scrap_pokemon_moves(\"Wailmer\")\n",
    "pokemon.loc[321] = scrap_pokemon_moves(\"Wailord\")"
   ]
  },
  {
   "cell_type": "code",
   "execution_count": 16,
   "id": "0d239fd7-3ef9-43fb-9dcc-ff32c9a45763",
   "metadata": {},
   "outputs": [],
   "source": [
    "# numel\n",
    "pokemon.loc[322] = scrap_pokemon_moves(\"Numel\")\n",
    "camerupt = scrap_pokemon_moves(\"Camerupt\")\n",
    "pokemon.loc[323] = camerupt\n",
    "pokemon.loc[324] = scrap_pokemon_moves(\"Torkoal\")\n",
    "pokemon.loc[325] = scrap_pokemon_moves(\"Spoink\")\n",
    "pokemon.loc[326] = scrap_pokemon_moves(\"Grumpig\")\n",
    "pokemon.loc[327] = scrap_pokemon_moves(\"Spinda\")"
   ]
  },
  {
   "cell_type": "code",
   "execution_count": 17,
   "id": "928ed119-fecf-40fe-8f68-1a24e846fab6",
   "metadata": {},
   "outputs": [],
   "source": [
    "# trapinch to swablu\n",
    "pokemon.loc[328] = scrap_pokemon_moves(\"Trapinch\")\n",
    "pokemon.loc[329] = scrap_pokemon_moves(\"Vibrava\")\n",
    "pokemon.loc[330] = scrap_pokemon_moves(\"Flygon\")\n",
    "pokemon.loc[331] = scrap_pokemon_moves(\"Cacnea\")\n",
    "pokemon.loc[332] = scrap_pokemon_moves(\"Cacturne\")\n",
    "pokemon.loc[333] = scrap_pokemon_moves(\"Swablu\")\n",
    "altaria = scrap_pokemon_moves(\"Altaria\")\n",
    "pokemon.loc[334] = altaria"
   ]
  },
  {
   "cell_type": "code",
   "execution_count": 18,
   "id": "5e031ade-0bf4-431e-93e3-26a0320a75ba",
   "metadata": {},
   "outputs": [],
   "source": [
    "# zangoose\n",
    "pokemon.loc[335] = scrap_pokemon_moves(\"Zangoose\")\n",
    "pokemon.loc[336] = scrap_pokemon_moves(\"Seviper\")\n",
    "pokemon.loc[337] = scrap_pokemon_moves(\"Lunatone\")\n",
    "pokemon.loc[338] = scrap_pokemon_moves(\"Solrock\")\n",
    "pokemon.loc[339] = scrap_pokemon_moves(\"Barboach\")\n",
    "pokemon.loc[340] = scrap_pokemon_moves(\"Whiscash\")\n",
    "pokemon.loc[341] = scrap_pokemon_moves(\"Corphish\")\n",
    "pokemon.loc[342] = scrap_pokemon_moves(\"Crawdaunt\")\n",
    "pokemon.loc[343] = scrap_pokemon_moves(\"Baltoy\")\n",
    "pokemon.loc[344] = scrap_pokemon_moves(\"Claydol\")"
   ]
  },
  {
   "cell_type": "code",
   "execution_count": 17,
   "id": "1c591acc-e204-4d3b-9a7f-ff09a5843f68",
   "metadata": {},
   "outputs": [],
   "source": [
    "# fossils 3rd gen\n",
    "pokemon.loc[345] = scrap_pokemon_moves(\"Lileep\")\n",
    "pokemon.loc[346] = scrap_pokemon_moves(\"Cradily\")\n",
    "pokemon.loc[347] = scrap_pokemon_moves(\"Anorith\")\n",
    "pokemon.loc[348] = scrap_pokemon_moves(\"Armaldo\")\n",
    "pokemon.loc[349] = scrap_pokemon_moves(\"Feebas\")\n",
    "pokemon.loc[350] = scrap_pokemon_moves(\"Milotic\")"
   ]
  },
  {
   "cell_type": "code",
   "execution_count": 20,
   "id": "84318374-2e7f-49c3-8cf7-2af94d99de97",
   "metadata": {},
   "outputs": [],
   "source": [
    "# castform\n",
    "pokemon.loc[351] = scrap_pokemon_moves(\"Castform\")"
   ]
  },
  {
   "cell_type": "code",
   "execution_count": 21,
   "id": "fb3cb8d1-8509-48d8-97b6-12e870d678ed",
   "metadata": {},
   "outputs": [],
   "source": [
    "# kecleon\n",
    "pokemon.loc[352] = scrap_pokemon_moves(\"Kecleon\")\n",
    "pokemon.loc[353] = scrap_pokemon_moves(\"Shuppet\")\n",
    "banette = scrap_pokemon_moves(\"Banette\")\n",
    "pokemon.loc[354] = banette\n",
    "pokemon.loc[355] = scrap_pokemon_moves(\"Duskull\")\n",
    "pokemon.loc[356] = scrap_pokemon_moves(\"Dusclops\")\n",
    "pokemon.loc[357] = scrap_pokemon_moves(\"Tropius\")\n",
    "pokemon.loc[358] = scrap_pokemon_moves(\"Chimecho\")"
   ]
  },
  {
   "cell_type": "code",
   "execution_count": 22,
   "id": "5472d14f-1550-415d-b5ec-3ad637b122fd",
   "metadata": {},
   "outputs": [],
   "source": [
    "# absol and wynaut\n",
    "absol = scrap_pokemon_moves(\"Absol\")\n",
    "pokemon.loc[359] = absol\n",
    "pokemon.loc[360] = scrap_pokemon_moves(\"Wynaut\")\n",
    "pokemon.loc[361] = scrap_pokemon_moves(\"Snorunt\")\n",
    "glalie = scrap_pokemon_moves(\"Glalie\")\n",
    "pokemon.loc[362] = glalie"
   ]
  },
  {
   "cell_type": "code",
   "execution_count": 23,
   "id": "1892ace8-775e-4bef-aab3-2406cdefb995",
   "metadata": {},
   "outputs": [],
   "source": [
    "# Spheal line\n",
    "pokemon.loc[363] = scrap_pokemon_moves(\"Spheal\")\n",
    "pokemon.loc[364] = scrap_pokemon_moves(\"Sealeo\")\n",
    "pokemon.loc[365] = scrap_pokemon_moves(\"Walrein\")\n",
    "pokemon.loc[366] = scrap_pokemon_moves(\"Clamperl\")\n",
    "pokemon.loc[367] = scrap_pokemon_moves(\"Huntail\")\n",
    "pokemon.loc[368] = scrap_pokemon_moves(\"Gorebyss\")\n",
    "pokemon.loc[369] = scrap_pokemon_moves(\"Relicanth\")\n",
    "pokemon.loc[370] = scrap_pokemon_moves(\"Luvdisc\")"
   ]
  },
  {
   "cell_type": "code",
   "execution_count": 24,
   "id": "f8cd882b-c2f6-4bf1-bc4b-bbe1a8d3820b",
   "metadata": {},
   "outputs": [],
   "source": [
    "# bagon line and beldum\n",
    "pokemon.loc[371] = scrap_pokemon_moves(\"Bagon\")\n",
    "pokemon.loc[372] = scrap_pokemon_moves(\"Shelgon\")\n",
    "salamence = scrap_pokemon_moves(\"Salamence\")\n",
    "pokemon.loc[373] = salamence\n",
    "pokemon.loc[374] = scrap_pokemon_moves(\"Beldum\")\n",
    "pokemon.loc[375] = scrap_pokemon_moves(\"Metang\")\n",
    "metagross = scrap_pokemon_moves(\"Metagross\")\n",
    "pokemon.loc[376] = metagross"
   ]
  },
  {
   "cell_type": "code",
   "execution_count": 25,
   "id": "e7106c16-ec98-4ec5-bc45-fa8bf0e1d9ea",
   "metadata": {},
   "outputs": [],
   "source": [
    "# Regis\n",
    "pokemon.loc[377] = scrap_pokemon_moves(\"Regirock\")\n",
    "pokemon.loc[378] = scrap_pokemon_moves(\"Regice\")\n",
    "pokemon.loc[379] = scrap_pokemon_moves(\"Registeel\")"
   ]
  },
  {
   "cell_type": "code",
   "execution_count": 26,
   "id": "6f1082f1-b60a-4b3a-b5b8-46d2799e18fe",
   "metadata": {},
   "outputs": [],
   "source": [
    "# latias and latious and other legendaries \n",
    "pokemon.loc[380] = scrap_pokemon_moves(\"Latias\")\n",
    "pokemon.loc[381] = scrap_pokemon_moves(\"Latios\")\n",
    "kyogre = scrap_pokemon_moves(\"Kyogre\")\n",
    "pokemon.loc[382] = kyogre\n",
    "groudon = scrap_pokemon_moves(\"Groudon\")\n",
    "pokemon.loc[383] = groudon\n",
    "rayquaza = scrap_pokemon_moves(\"Rayquaza\")\n",
    "pokemon.loc[384] = rayquaza\n",
    "pokemon.loc[385] = scrap_pokemon_moves(\"Jirachi\")\n",
    "pokemon.loc[386] = scrap_pokemon_moves(\"Deoxys\")"
   ]
  },
  {
   "cell_type": "code",
   "execution_count": 27,
   "id": "b7f02d59-8b64-451c-b884-ac3f67d0178d",
   "metadata": {},
   "outputs": [],
   "source": [
    "# Gen 4 starters\n",
    "pokemon.loc[387] = scrap_pokemon_moves(\"Turtwig\")\n",
    "pokemon.loc[388] = scrap_pokemon_moves(\"Grotle\")\n",
    "pokemon.loc[389] = scrap_pokemon_moves(\"Torterra\")\n",
    "pokemon.loc[390] = scrap_pokemon_moves(\"Chimchar\")\n",
    "pokemon.loc[391] = scrap_pokemon_moves(\"Monferno\")\n",
    "pokemon.loc[392] = scrap_pokemon_moves(\"Infernape\")\n",
    "piplup = scrap_pokemon_moves(\"Piplup\")\n",
    "pokemon.loc[393] = piplup\n",
    "prinplup = scrap_pokemon_moves(\"Prinplup\")\n",
    "pokemon.loc[394] = prinplup\n",
    "empoleon = scrap_pokemon_moves(\"Empoleon\")\n",
    "pokemon.loc[395] = empoleon"
   ]
  },
  {
   "cell_type": "code",
   "execution_count": 28,
   "id": "dd520920-8aff-4d63-a1d3-df3aadf117f3",
   "metadata": {},
   "outputs": [],
   "source": [
    "# starly and bidoof\n",
    "pokemon.loc[396] = scrap_pokemon_moves(\"Starly\")\n",
    "pokemon.loc[397] = scrap_pokemon_moves(\"Staravia\")\n",
    "pokemon.loc[398] = scrap_pokemon_moves(\"Staraptor\")\n",
    "pokemon.loc[399] = scrap_pokemon_moves(\"Bidoof\")\n",
    "pokemon.loc[400] = scrap_pokemon_moves(\"Bibarel\")\n",
    "pokemon.loc[401] = scrap_pokemon_moves(\"Kricketot\")\n",
    "pokemon.loc[402] = scrap_pokemon_moves(\"Kricketune\")"
   ]
  },
  {
   "cell_type": "code",
   "execution_count": 29,
   "id": "1d852b2b-73b9-4a4e-8f09-70e3fc0e5353",
   "metadata": {},
   "outputs": [],
   "source": [
    "# Shinx to fossils\n",
    "pokemon.loc[403] = scrap_pokemon_moves(\"Shinx\")\n",
    "pokemon.loc[404] = scrap_pokemon_moves(\"Luxio\")\n",
    "pokemon.loc[405] = scrap_pokemon_moves(\"Luxray\")\n",
    "pokemon.loc[406] = scrap_pokemon_moves(\"Budew\")\n",
    "pokemon.loc[407] = scrap_pokemon_moves(\"Roserade\")\n",
    "pokemon.loc[408] = scrap_pokemon_moves(\"Cranidos\")\n",
    "pokemon.loc[409] = scrap_pokemon_moves(\"Rampardos\")\n",
    "pokemon.loc[410] = scrap_pokemon_moves(\"Shieldon\")\n",
    "pokemon.loc[411] = scrap_pokemon_moves(\"Bastiodon\")"
   ]
  },
  {
   "cell_type": "code",
   "execution_count": 30,
   "id": "a429397d-eb23-49a9-86ef-635bf79cf7a2",
   "metadata": {},
   "outputs": [],
   "source": [
    "# burmy line\n",
    "pokemon.loc[412] = scrap_pokemon_moves(\"Burmy\")\n",
    "pokemon.loc[413] = scrap_pokemon_moves(\"Wormadam\")\n",
    "pokemon.loc[414] = scrap_pokemon_moves(\"Mothim\")\n",
    "pokemon.loc[415] = scrap_pokemon_moves(\"Combee\")\n",
    "pokemon.loc[416] = scrap_pokemon_moves(\"Vespiquen\")\n",
    "pokemon.loc[417] = scrap_pokemon_moves(\"Pachirisu\")\n",
    "pokemon.loc[418] = scrap_pokemon_moves(\"Buizel\")\n",
    "pokemon.loc[419] = scrap_pokemon_moves(\"Floatzel\")"
   ]
  },
  {
   "cell_type": "code",
   "execution_count": 31,
   "id": "13390f42-36d9-43ec-b752-3311636ab6bd",
   "metadata": {},
   "outputs": [],
   "source": [
    "# cherubi\n",
    "pokemon.loc[420] = scrap_pokemon_moves(\"Cherubi\")\n",
    "pokemon.loc[421] = scrap_pokemon_moves(\"Cherrim\")\n",
    "pokemon.loc[422] = scrap_pokemon_moves(\"Shellos\")\n",
    "pokemon.loc[423] = scrap_pokemon_moves(\"Gastrodon\")\n",
    "pokemon.loc[424] = scrap_pokemon_moves(\"Ambipom\")\n",
    "pokemon.loc[425] = scrap_pokemon_moves(\"Drifloon\")\n",
    "pokemon.loc[426] = scrap_pokemon_moves(\"Drifblim\")"
   ]
  },
  {
   "cell_type": "code",
   "execution_count": 32,
   "id": "4cb99a33-1a38-4316-a2b0-bc87634a0506",
   "metadata": {},
   "outputs": [],
   "source": [
    "# buneary\n",
    "pokemon.loc[427] = scrap_pokemon_moves(\"Buneary\")\n",
    "lopunny = scrap_pokemon_moves(\"Lopunny\")\n",
    "pokemon.loc[428] = lopunny\n",
    "pokemon.loc[429] = scrap_pokemon_moves(\"Mismagius\")\n",
    "pokemon.loc[430] = scrap_pokemon_moves(\"Honchkrow\")\n",
    "pokemon.loc[431] = scrap_pokemon_moves(\"Glameow\")\n",
    "pokemon.loc[432] = scrap_pokemon_moves(\"Purugly\")\n",
    "pokemon.loc[433] = scrap_pokemon_moves(\"Chingling\")\n",
    "pokemon.loc[434] = scrap_pokemon_moves(\"Stunky\")\n",
    "pokemon.loc[435] = scrap_pokemon_moves(\"Skuntank\")\n",
    "pokemon.loc[436] = scrap_pokemon_moves(\"Bronzor\")\n",
    "pokemon.loc[437] = scrap_pokemon_moves(\"Bronzong\")\n",
    "pokemon.loc[438] = scrap_pokemon_moves(\"Bonsly\")"
   ]
  },
  {
   "cell_type": "code",
   "execution_count": 8,
   "id": "d8202407-dde9-40b6-922f-2a213e48529b",
   "metadata": {},
   "outputs": [],
   "source": [
    "# MRmime jr\n",
    "pokemon.loc[439] = scrap_pokemon_moves(\"Mime_Jr.\")\n",
    "pokemon.loc[440] = scrap_pokemon_moves(\"Happiny\")\n",
    "pokemon.loc[441] = scrap_pokemon_moves(\"Chatot\")\n",
    "pokemon.loc[442] = scrap_pokemon_moves(\"Spiritomb\")"
   ]
  },
  {
   "cell_type": "code",
   "execution_count": 34,
   "id": "32661ff9-b649-4435-aa0d-bf4a9d234382",
   "metadata": {},
   "outputs": [],
   "source": [
    "# Gible line \n",
    "pokemon.loc[443] = scrap_pokemon_moves(\"Gible\")\n",
    "pokemon.loc[444] = scrap_pokemon_moves(\"Gabite\")\n",
    "garchomp = scrap_pokemon_moves(\"Garchomp\")\n",
    "pokemon.loc[445] = garchomp\n",
    "pokemon.loc[446] = scrap_pokemon_moves(\"Munchlax\")"
   ]
  },
  {
   "cell_type": "code",
   "execution_count": 35,
   "id": "b4b0d183-e113-4df9-86fe-1afd91a0a429",
   "metadata": {},
   "outputs": [],
   "source": [
    "# riolu line\n",
    "pokemon.loc[447] = scrap_pokemon_moves(\"Riolu\")\n",
    "lucario = scrap_pokemon_moves(\"Lucario\")\n",
    "pokemon.loc[448] = lucario\n",
    "pokemon.loc[449] = scrap_pokemon_moves(\"Hippopotas\")\n",
    "pokemon.loc[450] = scrap_pokemon_moves(\"Hippowdon\")\n",
    "pokemon.loc[451] = scrap_pokemon_moves(\"Skorupi\")\n",
    "pokemon.loc[452] = scrap_pokemon_moves(\"Drapion\")"
   ]
  },
  {
   "cell_type": "code",
   "execution_count": 36,
   "id": "ccd48fe1-e2bd-44ef-aec9-6ccd74e6d3b4",
   "metadata": {},
   "outputs": [],
   "source": [
    "# croagunk\n",
    "pokemon.loc[453] = scrap_pokemon_moves(\"Croagunk\")\n",
    "pokemon.loc[454] = scrap_pokemon_moves(\"Toxicroak\")\n",
    "pokemon.loc[455] = scrap_pokemon_moves(\"Carnivine\")\n",
    "pokemon.loc[456] = scrap_pokemon_moves(\"Finneon\")\n",
    "pokemon.loc[457] = scrap_pokemon_moves(\"Lumineon\")\n",
    "pokemon.loc[458] = scrap_pokemon_moves(\"Mantyke\")"
   ]
  },
  {
   "cell_type": "code",
   "execution_count": 37,
   "id": "d810fd68-183e-4e36-87d3-679e0b0a5e68",
   "metadata": {},
   "outputs": [],
   "source": [
    "# Snover line and new evos\n",
    "pokemon.loc[459] = scrap_pokemon_moves(\"Snover\")\n",
    "abomasnow = scrap_pokemon_moves(\"Abomasnow\")\n",
    "pokemon.loc[460] = abomasnow\n",
    "pokemon.loc[461] = scrap_pokemon_moves(\"Weavile\")\n",
    "pokemon.loc[462] = scrap_pokemon_moves(\"Magnezone\")\n",
    "pokemon.loc[463] = scrap_pokemon_moves(\"Lickilicky\")\n",
    "pokemon.loc[464] = scrap_pokemon_moves(\"Rhyperior\")\n",
    "pokemon.loc[465] = scrap_pokemon_moves(\"Tangrowth\")\n",
    "pokemon.loc[466] = scrap_pokemon_moves(\"Electivire\")\n",
    "pokemon.loc[467] = scrap_pokemon_moves(\"Magmortar\")\n",
    "pokemon.loc[468] = scrap_pokemon_moves(\"Togekiss\")\n",
    "pokemon.loc[469] = scrap_pokemon_moves(\"Yanmega\")\n",
    "pokemon.loc[470] = scrap_pokemon_moves(\"Leafeon\")\n",
    "pokemon.loc[471] = scrap_pokemon_moves(\"Glaceon\")\n",
    "pokemon.loc[472] = scrap_pokemon_moves(\"Gliscor\")\n",
    "pokemon.loc[473] = scrap_pokemon_moves(\"Mamoswine\")\n",
    "pokemon.loc[474] = scrap_pokemon_moves(\"Porygon-Z\")"
   ]
  },
  {
   "cell_type": "code",
   "execution_count": 38,
   "id": "d407f177-fb5b-4958-b969-9de5129a5b96",
   "metadata": {},
   "outputs": [],
   "source": [
    "# gallad\n",
    "gallade = scrap_pokemon_moves(\"Gallade\")\n",
    "pokemon.loc[475] = gallade\n",
    "pokemon.loc[476] = scrap_pokemon_moves(\"Probopass\")\n",
    "pokemon.loc[477] = scrap_pokemon_moves(\"Dusknoir\")\n",
    "pokemon.loc[478] = scrap_pokemon_moves(\"Froslass\")\n",
    "pokemon.loc[479] = scrap_pokemon_moves(\"Rotom\")"
   ]
  },
  {
   "cell_type": "code",
   "execution_count": 39,
   "id": "e38e47f8-bf1a-4859-8cd9-3c3024e31dcf",
   "metadata": {},
   "outputs": [],
   "source": [
    "# legendaries gen 4\n",
    "pokemon.loc[480] = scrap_pokemon_moves(\"Uxie\")\n",
    "pokemon.loc[481] = scrap_pokemon_moves(\"Mesprit\")\n",
    "pokemon.loc[482] = scrap_pokemon_moves(\"Azelf\")\n",
    "pokemon.loc[483] = scrap_pokemon_moves(\"Dialga\")\n",
    "pokemon.loc[484] = scrap_pokemon_moves(\"Palkia\")\n",
    "pokemon.loc[485] = scrap_pokemon_moves(\"Heatran\")\n",
    "pokemon.loc[486] = scrap_pokemon_moves(\"Regigigas\")\n",
    "giratina = scrap_pokemon_moves(\"Giratina\")\n",
    "pokemon.loc[487] = giratina\n",
    "pokemon.loc[488] = scrap_pokemon_moves(\"Cresselia\")\n",
    "pokemon.loc[489] = scrap_pokemon_moves(\"Phione\")\n",
    "pokemon.loc[490] = scrap_pokemon_moves(\"Manaphy\")\n",
    "pokemon.loc[491] = scrap_pokemon_moves(\"Darkrai\")\n",
    "shaymin = scrap_pokemon_moves(\"Shaymin\")\n",
    "pokemon.loc[492] = shaymin\n",
    "pokemon.loc[493] = scrap_pokemon_moves(\"Arceus\")"
   ]
  },
  {
   "cell_type": "code",
   "execution_count": 40,
   "id": "cfa752a4-69d8-460f-8ca1-101fbb2ce48b",
   "metadata": {},
   "outputs": [],
   "source": [
    "# gen 5 victi\n",
    "pokemon.loc[494] = scrap_pokemon_moves(\"Victini\")"
   ]
  },
  {
   "cell_type": "code",
   "execution_count": 41,
   "id": "14db8f49-dc01-4dd6-a04a-d9f2ef9741d5",
   "metadata": {},
   "outputs": [],
   "source": [
    "# gen 5 starters snivy\n",
    "pokemon.loc[495] = scrap_pokemon_moves(\"Snivy\")\n",
    "pokemon.loc[496] = scrap_pokemon_moves(\"Servine\")\n",
    "pokemon.loc[497] = scrap_pokemon_moves(\"Serperior\")"
   ]
  },
  {
   "cell_type": "code",
   "execution_count": 19,
   "id": "2cde9704-b5a4-4196-a091-789a9e80da5d",
   "metadata": {},
   "outputs": [],
   "source": [
    "# oshawott and tepig\n",
    "pokemon.loc[498] = scrap_pokemon_moves(\"Tepig\")\n",
    "pokemon.loc[499] = scrap_pokemon_moves(\"Pignite\")\n",
    "pokemon.loc[500] = scrap_pokemon_moves(\"Emboar\")\n",
    "pokemon.loc[501] = scrap_pokemon_moves(\"Oshawott\")\n",
    "pokemon.loc[502] = scrap_pokemon_moves(\"Dewott\")\n",
    "pokemon.loc[503] = scrap_pokemon_moves(\"Samurott\")"
   ]
  },
  {
   "cell_type": "code",
   "execution_count": 43,
   "id": "c2f87555-8b55-4c85-895c-4a8c2b68a344",
   "metadata": {},
   "outputs": [],
   "source": [
    "# patrat\n",
    "pokemon.loc[504] = scrap_pokemon_moves(\"Patrat\")\n",
    "pokemon.loc[505] = scrap_pokemon_moves(\"Watchog\")\n",
    "pokemon.loc[506] = scrap_pokemon_moves(\"Lillipup\")\n",
    "pokemon.loc[507] = scrap_pokemon_moves(\"Herdier\")\n",
    "pokemon.loc[508] = scrap_pokemon_moves(\"Stoutland\")\n",
    "pokemon.loc[509] = scrap_pokemon_moves(\"Purrloin\")\n",
    "pokemon.loc[510] = scrap_pokemon_moves(\"Liepard\")"
   ]
  },
  {
   "cell_type": "code",
   "execution_count": 44,
   "id": "40b3e0e8-c6df-42e8-b411-a53f84d7bffb",
   "metadata": {},
   "outputs": [],
   "source": [
    "#monkeys\n",
    "pokemon.loc[511] = scrap_pokemon_moves(\"Pansage\")\n",
    "pokemon.loc[512] = scrap_pokemon_moves(\"Simisage\")\n",
    "pokemon.loc[513] = scrap_pokemon_moves(\"Pansear\")\n",
    "pokemon.loc[514] = scrap_pokemon_moves(\"Simisear\")\n",
    "pokemon.loc[515] = scrap_pokemon_moves(\"Panpour\")\n",
    "pokemon.loc[516] = scrap_pokemon_moves(\"Simipour\")"
   ]
  },
  {
   "cell_type": "code",
   "execution_count": 45,
   "id": "644167d4-fcbb-424e-bc94-15815de3cfdb",
   "metadata": {},
   "outputs": [],
   "source": [
    "# muna and pidove\n",
    "pokemon.loc[517] = scrap_pokemon_moves(\"Munna\")\n",
    "pokemon.loc[518] = scrap_pokemon_moves(\"Musharna\")\n",
    "pokemon.loc[519] = scrap_pokemon_moves(\"Pidove\")\n",
    "pokemon.loc[520] = scrap_pokemon_moves(\"Tranquill\")\n",
    "pokemon.loc[521] = scrap_pokemon_moves(\"Unfezant\")\n",
    "pokemon.loc[522] = scrap_pokemon_moves(\"Blitzle\")\n",
    "pokemon.loc[523] = scrap_pokemon_moves(\"Zebstrika\")"
   ]
  },
  {
   "cell_type": "code",
   "execution_count": 46,
   "id": "4654282b-996d-4c7a-b881-65658839f2c2",
   "metadata": {},
   "outputs": [],
   "source": [
    "#roggenrola\n",
    "pokemon.loc[524] = scrap_pokemon_moves(\"Roggenrola\")\n",
    "pokemon.loc[525] = scrap_pokemon_moves(\"Boldore\")\n",
    "pokemon.loc[526] = scrap_pokemon_moves(\"Gigalith\")\n",
    "pokemon.loc[527] = scrap_pokemon_moves(\"Woobat\")\n",
    "pokemon.loc[528] = scrap_pokemon_moves(\"Swoobat\")\n",
    "pokemon.loc[529] = scrap_pokemon_moves(\"Drilbur\")\n",
    "pokemon.loc[530] = scrap_pokemon_moves(\"Excadrill\")\n",
    "audino = scrap_pokemon_moves(\"Audino\")\n",
    "pokemon.loc[531] = audino"
   ]
  },
  {
   "cell_type": "code",
   "execution_count": 47,
   "id": "6760d170-da2d-4c6f-8fef-c97dbab9a7a2",
   "metadata": {},
   "outputs": [],
   "source": [
    "# timburr and tympole\n",
    "pokemon.loc[532] = scrap_pokemon_moves(\"Timburr\")\n",
    "pokemon.loc[533] = scrap_pokemon_moves(\"Gurdurr\")\n",
    "pokemon.loc[534] = scrap_pokemon_moves(\"Conkeldurr\")\n",
    "pokemon.loc[535] = scrap_pokemon_moves(\"Tympole\")\n",
    "pokemon.loc[536] = scrap_pokemon_moves(\"Palpitoad\")\n",
    "pokemon.loc[537] = scrap_pokemon_moves(\"Seismitoad\")\n",
    "pokemon.loc[538] = scrap_pokemon_moves(\"Throh\")\n",
    "pokemon.loc[539] = scrap_pokemon_moves(\"Sawk\")"
   ]
  },
  {
   "cell_type": "code",
   "execution_count": 48,
   "id": "a510aba6-302c-4ecc-94ca-dc9ad13b90e5",
   "metadata": {},
   "outputs": [],
   "source": [
    "# swaddle\n",
    "pokemon.loc[540] = scrap_pokemon_moves(\"Sewaddle\")\n",
    "pokemon.loc[541] = scrap_pokemon_moves(\"Swadloon\")\n",
    "pokemon.loc[542] = scrap_pokemon_moves(\"Leavanny\")\n",
    "venipede = scrap_pokemon_moves(\"Venipede\")\n",
    "pokemon.loc[543] = venipede\n",
    "whirlipede = scrap_pokemon_moves(\"Whirlipede\")\n",
    "pokemon.loc[544] = whirlipede\n",
    "scolipede = scrap_pokemon_moves(\"Scolipede\")\n",
    "pokemon.loc[545] = scolipede"
   ]
  },
  {
   "cell_type": "code",
   "execution_count": 49,
   "id": "334b8cde-c089-4e5c-9b24-ffa9350d0ff5",
   "metadata": {},
   "outputs": [],
   "source": [
    "# cottonee\n",
    "pokemon.loc[546] = scrap_pokemon_moves(\"Cottonee\")\n",
    "pokemon.loc[547] = scrap_pokemon_moves(\"Whimsicott\")\n",
    "pokemon.loc[548] = scrap_pokemon_moves(\"Petilil\")"
   ]
  },
  {
   "cell_type": "code",
   "execution_count": 50,
   "id": "3e4845ba-9dbb-4dd5-96d9-48a82006f61b",
   "metadata": {},
   "outputs": [],
   "source": [
    "# lilligant\n",
    "lilligant = scrap_pokemon_moves(\"Lilligant\")\n",
    "pokemon.loc[549] = lilligant\n",
    "basculin = scrap_pokemon_moves(\"Basculin\")\n",
    "pokemon.loc[550] = basculin"
   ]
  },
  {
   "cell_type": "code",
   "execution_count": 51,
   "id": "e23494a2-6b76-4f45-9a87-567b58f2c235",
   "metadata": {},
   "outputs": [],
   "source": [
    "# sandile\n",
    "pokemon.loc[551] = scrap_pokemon_moves(\"Sandile\")\n",
    "pokemon.loc[552] = scrap_pokemon_moves(\"Krokorok\")\n",
    "pokemon.loc[553] = scrap_pokemon_moves(\"Krookodile\")\n",
    "pokemon.loc[554] = scrap_pokemon_moves(\"Darumaka\")\n",
    "darmanitan = scrap_pokemon_moves(\"Darmanitan\")\n",
    "pokemon.loc[555] = darmanitan"
   ]
  },
  {
   "cell_type": "code",
   "execution_count": 52,
   "id": "bc86e214-8838-487b-9593-1c3fddf53f33",
   "metadata": {},
   "outputs": [],
   "source": [
    "# maractus \n",
    "pokemon.loc[556] = scrap_pokemon_moves(\"Maractus\")\n",
    "pokemon.loc[557] = scrap_pokemon_moves(\"Dwebble\")\n",
    "pokemon.loc[558] = scrap_pokemon_moves(\"Crustle\")\n",
    "pokemon.loc[559] = scrap_pokemon_moves(\"Scraggy\")\n",
    "pokemon.loc[560] = scrap_pokemon_moves(\"Scrafty\")\n",
    "pokemon.loc[561] = scrap_pokemon_moves(\"Sigilyph\")"
   ]
  },
  {
   "cell_type": "code",
   "execution_count": 53,
   "id": "f66f81bc-f275-4037-8a33-eb629bbe0672",
   "metadata": {},
   "outputs": [],
   "source": [
    "# yamask\n",
    "pokemon.loc[562] = scrap_pokemon_moves(\"Yamask\")\n",
    "pokemon.loc[563] = scrap_pokemon_moves(\"Cofagrigus\")\n",
    "pokemon.loc[564] = scrap_pokemon_moves(\"Tirtouga\")\n",
    "pokemon.loc[565] = scrap_pokemon_moves(\"Carracosta\")\n",
    "pokemon.loc[566] = scrap_pokemon_moves(\"Archen\")\n",
    "pokemon.loc[567] = scrap_pokemon_moves(\"Archeops\")\n",
    "pokemon.loc[568] = scrap_pokemon_moves(\"Trubbish\")\n",
    "pokemon.loc[569] = scrap_pokemon_moves(\"Garbodor\")"
   ]
  },
  {
   "cell_type": "code",
   "execution_count": 54,
   "id": "7bdf2796-0eb8-4d3f-9911-0e76d8040fa3",
   "metadata": {},
   "outputs": [],
   "source": [
    "# zorua\n",
    "pokemon.loc[570] = scrap_pokemon_moves(\"Zorua\")\n",
    "pokemon.loc[571] = scrap_pokemon_moves(\"Zoroark\")"
   ]
  },
  {
   "cell_type": "code",
   "execution_count": 55,
   "id": "f4245509-69ab-4782-9e46-45927a634c36",
   "metadata": {},
   "outputs": [],
   "source": [
    "# minccinp \n",
    "pokemon.loc[572] = scrap_pokemon_moves(\"Minccino\")\n",
    "pokemon.loc[573] = scrap_pokemon_moves(\"Cinccino\")\n",
    "pokemon.loc[574] = scrap_pokemon_moves(\"Gothita\")\n",
    "pokemon.loc[575] = scrap_pokemon_moves(\"Gothorita\")\n",
    "pokemon.loc[576] = scrap_pokemon_moves(\"Gothitelle\")\n",
    "pokemon.loc[577] = scrap_pokemon_moves(\"Solosis\")\n",
    "pokemon.loc[578] = scrap_pokemon_moves(\"Duosion\")\n",
    "pokemon.loc[579] = scrap_pokemon_moves(\"Reuniclus\")"
   ]
  },
  {
   "cell_type": "code",
   "execution_count": 56,
   "id": "f2f26e0c-940e-4d86-95b3-bf71682e264e",
   "metadata": {},
   "outputs": [],
   "source": [
    "#ducklett\n",
    "pokemon.loc[580] = scrap_pokemon_moves(\"Ducklett\")\n",
    "pokemon.loc[581] = scrap_pokemon_moves(\"Swanna\")\n",
    "pokemon.loc[582] = scrap_pokemon_moves(\"Vanillite\")\n",
    "pokemon.loc[583] = scrap_pokemon_moves(\"Vanillish\")\n",
    "pokemon.loc[584] = scrap_pokemon_moves(\"Vanilluxe\")\n",
    "pokemon.loc[585] = scrap_pokemon_moves(\"Deerling\")\n",
    "pokemon.loc[586] = scrap_pokemon_moves(\"Sawsbuck\")"
   ]
  },
  {
   "cell_type": "code",
   "execution_count": 57,
   "id": "2762e96c-d9f3-44ab-a7e6-15904b69af3c",
   "metadata": {},
   "outputs": [],
   "source": [
    "# emolga\n",
    "pokemon.loc[587] = scrap_pokemon_moves(\"Emolga\")\n",
    "pokemon.loc[588] = scrap_pokemon_moves(\"Karrablast\")\n",
    "pokemon.loc[589] = scrap_pokemon_moves(\"Escavalier\")\n",
    "pokemon.loc[590] = scrap_pokemon_moves(\"Foongus\")\n",
    "pokemon.loc[591] = scrap_pokemon_moves(\"Amoonguss\")\n",
    "pokemon.loc[592] = scrap_pokemon_moves(\"Frillish\")\n",
    "pokemon.loc[593] = scrap_pokemon_moves(\"Jellicent\")\n",
    "pokemon.loc[594] = scrap_pokemon_moves(\"Alomomola\")\n",
    "pokemon.loc[595] = scrap_pokemon_moves(\"Joltik\")\n",
    "pokemon.loc[596] = scrap_pokemon_moves(\"Galvantula\")\n",
    "pokemon.loc[597] = scrap_pokemon_moves(\"Ferroseed\")\n",
    "pokemon.loc[598] = scrap_pokemon_moves(\"Ferrothorn\")\n",
    "pokemon.loc[599] = scrap_pokemon_moves(\"Klink\")\n",
    "pokemon.loc[600] = scrap_pokemon_moves(\"Klang\")\n",
    "pokemon.loc[601] = scrap_pokemon_moves(\"Klinklang\")"
   ]
  },
  {
   "cell_type": "code",
   "execution_count": 58,
   "id": "327ff6cc-6481-4107-93ed-a7a1389a9ed1",
   "metadata": {},
   "outputs": [],
   "source": [
    "# tynamo\n",
    "pokemon.loc[602] = scrap_pokemon_moves(\"Tynamo\")\n",
    "pokemon.loc[603] = scrap_pokemon_moves(\"Eelektrik\")\n",
    "pokemon.loc[604] = scrap_pokemon_moves(\"Eelektross\")\n",
    "pokemon.loc[605] = scrap_pokemon_moves(\"Elgyem\")\n",
    "pokemon.loc[606] = scrap_pokemon_moves(\"Beheeyem\")\n",
    "pokemon.loc[607] = scrap_pokemon_moves(\"Litwick\")\n",
    "pokemon.loc[608] = scrap_pokemon_moves(\"Lampent\")\n",
    "pokemon.loc[609] = scrap_pokemon_moves(\"Chandelure\")"
   ]
  },
  {
   "cell_type": "code",
   "execution_count": 59,
   "id": "e29c97e8-c8d6-42fa-9aea-864ac67fa5b1",
   "metadata": {},
   "outputs": [],
   "source": [
    "# axew\n",
    "pokemon.loc[610] = scrap_pokemon_moves(\"Axew\")\n",
    "pokemon.loc[611] = scrap_pokemon_moves(\"Fraxure\")\n",
    "pokemon.loc[612] = scrap_pokemon_moves(\"Haxorus\")\n",
    "pokemon.loc[613] = scrap_pokemon_moves(\"Cubchoo\")\n",
    "pokemon.loc[614] = scrap_pokemon_moves(\"Beartic\")\n",
    "pokemon.loc[615] = scrap_pokemon_moves(\"Cryogonal\")\n",
    "pokemon.loc[616] = scrap_pokemon_moves(\"Shelmet\")\n",
    "pokemon.loc[617] = scrap_pokemon_moves(\"Accelgor\")"
   ]
  },
  {
   "cell_type": "code",
   "execution_count": 60,
   "id": "c75baf5b-8606-43fd-961e-f6d45f7c2956",
   "metadata": {},
   "outputs": [],
   "source": [
    "# stunkfish \n",
    "pokemon.loc[618] = scrap_pokemon_moves(\"Stunfisk\")"
   ]
  },
  {
   "cell_type": "code",
   "execution_count": 61,
   "id": "3389e78f-5d7d-4dad-b23b-21049e963b6c",
   "metadata": {},
   "outputs": [],
   "source": [
    "# meinfoo\n",
    "pokemon.loc[619] = scrap_pokemon_moves(\"Mienfoo\")\n",
    "pokemon.loc[620] = scrap_pokemon_moves(\"Mienshao\")\n",
    "pokemon.loc[621] = scrap_pokemon_moves(\"Druddigon\")\n",
    "pokemon.loc[622] = scrap_pokemon_moves(\"Golett\")\n",
    "pokemon.loc[623] = scrap_pokemon_moves(\"Golurk\")\n",
    "pokemon.loc[624] = scrap_pokemon_moves(\"Pawniard\")\n",
    "pokemon.loc[625] = scrap_pokemon_moves(\"Bisharp\")\n",
    "pokemon.loc[626] = scrap_pokemon_moves(\"Bouffalant\")\n",
    "pokemon.loc[627] = scrap_pokemon_moves(\"Rufflet\")\n",
    "pokemon.loc[628] = scrap_pokemon_moves(\"Braviary\")"
   ]
  },
  {
   "cell_type": "code",
   "execution_count": 62,
   "id": "405641e5-2790-4e4b-9b6a-4bb0e5b341b2",
   "metadata": {},
   "outputs": [],
   "source": [
    "# vullaby\n",
    "pokemon.loc[629] = scrap_pokemon_moves(\"Vullaby\")\n",
    "pokemon.loc[630] = scrap_pokemon_moves(\"Mandibuzz\")\n",
    "pokemon.loc[631] = scrap_pokemon_moves(\"Heatmor\")\n",
    "pokemon.loc[632] = scrap_pokemon_moves(\"Durant\")\n",
    "pokemon.loc[633] = scrap_pokemon_moves(\"Deino\")\n",
    "pokemon.loc[634] = scrap_pokemon_moves(\"Zweilous\")\n",
    "pokemon.loc[635] = scrap_pokemon_moves(\"Hydreigon\")\n",
    "pokemon.loc[636] = scrap_pokemon_moves(\"Larvesta\")\n",
    "pokemon.loc[637] = scrap_pokemon_moves(\"Volcarona\")"
   ]
  },
  {
   "cell_type": "code",
   "execution_count": 63,
   "id": "8285b360-b390-4c63-bcf7-f4a83ea1bafb",
   "metadata": {},
   "outputs": [],
   "source": [
    "# legendaries\n",
    "pokemon.loc[638] = scrap_pokemon_moves(\"Cobalion\")\n",
    "pokemon.loc[639] = scrap_pokemon_moves(\"Terrakion\")\n",
    "pokemon.loc[640] = scrap_pokemon_moves(\"Virizion\")\n",
    "pokemon.loc[641] = scrap_pokemon_moves(\"Tornadus\")\n",
    "pokemon.loc[642] = scrap_pokemon_moves(\"Thundurus\")\n",
    "pokemon.loc[643] = scrap_pokemon_moves(\"Reshiram\")\n",
    "pokemon.loc[644] = scrap_pokemon_moves(\"Zekrom\")\n",
    "pokemon.loc[645] = scrap_pokemon_moves(\"Landorus\")\n",
    "pokemon.loc[646] = scrap_pokemon_moves(\"Kyurem\")\n",
    "pokemon.loc[647] = scrap_pokemon_moves(\"Keldeo\")\n",
    "pokemon.loc[648] = scrap_pokemon_moves(\"Meloetta\")\n",
    "pokemon.loc[649] = scrap_pokemon_moves(\"Genesect\")"
   ]
  },
  {
   "cell_type": "code",
   "execution_count": 64,
   "id": "5a080ed2-9d26-4396-b6d4-448133e19892",
   "metadata": {},
   "outputs": [],
   "source": [
    "# gen 6 starters \n",
    "pokemon.loc[650] = scrap_pokemon_moves(\"Chespin\")\n",
    "pokemon.loc[651] = scrap_pokemon_moves(\"Quilladin\")\n",
    "pokemon.loc[652] = scrap_pokemon_moves(\"Chesnaught\")\n",
    "pokemon.loc[653] = scrap_pokemon_moves(\"Fennekin\")\n",
    "pokemon.loc[654] = scrap_pokemon_moves(\"Braixen\")\n",
    "pokemon.loc[655] = scrap_pokemon_moves(\"Delphox\")\n",
    "pokemon.loc[656] = scrap_pokemon_moves(\"Froakie\")\n",
    "pokemon.loc[657] = scrap_pokemon_moves(\"Frogadier\")\n",
    "pokemon.loc[658] = scrap_pokemon_moves(\"Greninja\")"
   ]
  },
  {
   "cell_type": "code",
   "execution_count": 65,
   "id": "d2dba37b-994c-4314-8752-52dd6b3d856e",
   "metadata": {},
   "outputs": [],
   "source": [
    "# bunnelby\n",
    "pokemon.loc[659] = scrap_pokemon_moves(\"Bunnelby\")\n",
    "pokemon.loc[660] = scrap_pokemon_moves(\"Diggersby\")\n",
    "pokemon.loc[661] = scrap_pokemon_moves(\"Fletchling\")\n",
    "pokemon.loc[662] = scrap_pokemon_moves(\"Fletchinder\")\n",
    "pokemon.loc[663] = scrap_pokemon_moves(\"Talonflame\")"
   ]
  },
  {
   "cell_type": "code",
   "execution_count": 66,
   "id": "e53057ec-9488-423f-85f6-02f1a0dc1949",
   "metadata": {},
   "outputs": [],
   "source": [
    "# scatterbug\n",
    "pokemon.loc[664] = scrap_pokemon_moves(\"Scatterbug\")\n",
    "pokemon.loc[665] = scrap_pokemon_moves(\"Spewpa\")\n",
    "pokemon.loc[666] = scrap_pokemon_moves(\"Vivillon\")\n",
    "pokemon.loc[667] = scrap_pokemon_moves(\"Litleo\")\n",
    "pokemon.loc[668] = scrap_pokemon_moves(\"Pyroar\")\n",
    "pokemon.loc[669] = scrap_pokemon_moves(\"Flabébé\")\n",
    "pokemon.loc[670] = scrap_pokemon_moves(\"Floette\")\n",
    "pokemon.loc[671] = scrap_pokemon_moves(\"Florges\")"
   ]
  },
  {
   "cell_type": "code",
   "execution_count": 67,
   "id": "45a61a4e-e95d-4dd8-a4ae-58579f21283a",
   "metadata": {},
   "outputs": [],
   "source": [
    "# skiddo\n",
    "pokemon.loc[672] = scrap_pokemon_moves(\"Skiddo\")\n",
    "pokemon.loc[673] = scrap_pokemon_moves(\"Gogoat\")\n",
    "pokemon.loc[674] = scrap_pokemon_moves(\"Pancham\")\n",
    "pokemon.loc[675] = scrap_pokemon_moves(\"Pangoro\")\n",
    "pokemon.loc[676] = scrap_pokemon_moves(\"Furfrou\")\n",
    "pokemon.loc[677] = scrap_pokemon_moves(\"Espurr\")\n",
    "pokemon.loc[678] = scrap_pokemon_moves(\"Meowstic\")\n",
    "pokemon.loc[679] = scrap_pokemon_moves(\"Honedge\")\n",
    "pokemon.loc[680] = scrap_pokemon_moves(\"Doublade\")\n",
    "pokemon.loc[681] = scrap_pokemon_moves(\"Aegislash\")"
   ]
  },
  {
   "cell_type": "code",
   "execution_count": 68,
   "id": "39f27e35-3fdb-4fa4-baa6-bef50ea04b97",
   "metadata": {},
   "outputs": [],
   "source": [
    "# spritzee\n",
    "pokemon.loc[682] = scrap_pokemon_moves(\"Spritzee\")\n",
    "pokemon.loc[683] = scrap_pokemon_moves(\"Aromatisse\")\n",
    "pokemon.loc[684] = scrap_pokemon_moves(\"Swirlix\")\n",
    "pokemon.loc[685] = scrap_pokemon_moves(\"Slurpuff\")\n",
    "pokemon.loc[686] = scrap_pokemon_moves(\"Inkay\")\n",
    "pokemon.loc[687] = scrap_pokemon_moves(\"Malamar\")\n",
    "pokemon.loc[688] = scrap_pokemon_moves(\"Binacle\")\n",
    "pokemon.loc[689] = scrap_pokemon_moves(\"Barbaracle\")\n",
    "pokemon.loc[690] = scrap_pokemon_moves(\"Skrelp\")\n",
    "pokemon.loc[691] = scrap_pokemon_moves(\"Dragalge\")\n",
    "pokemon.loc[692] = scrap_pokemon_moves(\"Clauncher\")\n",
    "pokemon.loc[693] = scrap_pokemon_moves(\"Clawitzer\")\n",
    "pokemon.loc[694] = scrap_pokemon_moves(\"Helioptile\")\n",
    "pokemon.loc[695] = scrap_pokemon_moves(\"Heliolisk\")\n",
    "pokemon.loc[696] = scrap_pokemon_moves(\"Tyrunt\")\n",
    "pokemon.loc[697] = scrap_pokemon_moves(\"Tyrantrum\")\n",
    "pokemon.loc[698] = scrap_pokemon_moves(\"Amaura\")\n",
    "pokemon.loc[699] = scrap_pokemon_moves(\"Aurorus\")\n",
    "pokemon.loc[700] = scrap_pokemon_moves(\"Sylveon\")"
   ]
  },
  {
   "cell_type": "code",
   "execution_count": 69,
   "id": "ff2e07d0-bd16-429a-b587-f587ac1cb394",
   "metadata": {},
   "outputs": [],
   "source": [
    "# hawlucha\n",
    "pokemon.loc[701] = scrap_pokemon_moves(\"Hawlucha\")\n",
    "pokemon.loc[702] = scrap_pokemon_moves(\"Dedenne\")\n",
    "pokemon.loc[703] = scrap_pokemon_moves(\"Carbink\")\n",
    "pokemon.loc[704] = scrap_pokemon_moves(\"Goomy\")\n",
    "pokemon.loc[705] = scrap_pokemon_moves(\"Sliggoo\")\n",
    "pokemon.loc[706] = scrap_pokemon_moves(\"Goodra\")"
   ]
  },
  {
   "cell_type": "code",
   "execution_count": 70,
   "id": "1393146f-15ff-421a-9eeb-52699c4fc896",
   "metadata": {},
   "outputs": [],
   "source": [
    "#klefki\n",
    "pokemon.loc[707] = scrap_pokemon_moves(\"Klefki\")\n",
    "pokemon.loc[708] = scrap_pokemon_moves(\"Phantump\")\n",
    "pokemon.loc[709] = scrap_pokemon_moves(\"Trevenant\")\n",
    "pokemon.loc[710] = scrap_pokemon_moves(\"Pumpkaboo\")\n",
    "pokemon.loc[711] = scrap_pokemon_moves(\"Gourgeist\")\n",
    "pokemon.loc[712] = scrap_pokemon_moves(\"Bergmite\")\n",
    "pokemon.loc[713] = scrap_pokemon_moves(\"Avalugg\")"
   ]
  },
  {
   "cell_type": "code",
   "execution_count": 72,
   "id": "d7d47d13-1b71-4d40-b397-f984424906a6",
   "metadata": {},
   "outputs": [],
   "source": [
    "# Noibat\n",
    "pokemon.loc[714] = scrap_pokemon_moves(\"Noibat\")\n",
    "pokemon.loc[715] = scrap_pokemon_moves(\"Noivern\")\n",
    "pokemon.loc[716] = scrap_pokemon_moves(\"Xerneas\")\n",
    "pokemon.loc[717] = scrap_pokemon_moves(\"Yveltal\")\n",
    "pokemon.loc[718] = scrap_pokemon_moves(\"Zygarde\")\n",
    "pokemon.loc[719] = scrap_pokemon_moves(\"Diancie\")\n",
    "pokemon.loc[720] = scrap_pokemon_moves(\"Hoopa\")\n",
    "pokemon.loc[721] = scrap_pokemon_moves(\"Volcanion\")"
   ]
  },
  {
   "cell_type": "code",
   "execution_count": 73,
   "id": "71626432-8e68-41f2-8cf0-1ca94d2aca96",
   "metadata": {},
   "outputs": [],
   "source": [
    "# gen 7 starters \n",
    "pokemon.loc[722] = scrap_pokemon_moves(\"Rowlet\")\n",
    "pokemon.loc[723] = scrap_pokemon_moves(\"Dartrix\")\n",
    "pokemon.loc[724] = scrap_pokemon_moves(\"Decidueye\")\n",
    "pokemon.loc[725] = scrap_pokemon_moves(\"Litten\")\n",
    "pokemon.loc[726] = scrap_pokemon_moves(\"Torracat\")\n",
    "pokemon.loc[727] = scrap_pokemon_moves(\"Incineroar\")\n",
    "pokemon.loc[728] = scrap_pokemon_moves(\"Popplio\")\n",
    "pokemon.loc[729] = scrap_pokemon_moves(\"Brionne\")"
   ]
  },
  {
   "cell_type": "code",
   "execution_count": 74,
   "id": "2b9f9a03-a0d2-4942-96d9-32d8525b5446",
   "metadata": {},
   "outputs": [],
   "source": [
    "# pikipek line \n",
    "pokemon.loc[730] = scrap_pokemon_moves(\"Primarina\")\n",
    "pokemon.loc[731] = scrap_pokemon_moves(\"Pikipek\")\n",
    "pokemon.loc[732] = scrap_pokemon_moves(\"Trumbeak\")\n",
    "pokemon.loc[733] = scrap_pokemon_moves(\"Toucannon\")\n",
    "pokemon.loc[734] = scrap_pokemon_moves(\"Yungoos\")\n",
    "pokemon.loc[735] = scrap_pokemon_moves(\"Gumshoos\")\n"
   ]
  },
  {
   "cell_type": "code",
   "execution_count": 75,
   "id": "5a667676-9038-463b-a170-3b4eeb169b61",
   "metadata": {},
   "outputs": [],
   "source": [
    "# grubbin line\n",
    "pokemon.loc[736] = scrap_pokemon_moves(\"Grubbin\")\n",
    "pokemon.loc[737] = scrap_pokemon_moves(\"Charjabug\")\n",
    "pokemon.loc[738] = scrap_pokemon_moves(\"Vikavolt\")\n",
    "pokemon.loc[739] = scrap_pokemon_moves(\"Crabrawler\")\n",
    "pokemon.loc[740] = scrap_pokemon_moves(\"Crabominable\")\n",
    "pokemon.loc[741] = scrap_pokemon_moves(\"Oricorio\")\n",
    "pokemon.loc[742] = scrap_pokemon_moves(\"Cutiefly\")\n",
    "pokemon.loc[743] = scrap_pokemon_moves(\"Ribombee\")"
   ]
  },
  {
   "cell_type": "code",
   "execution_count": 76,
   "id": "229f629a-00ff-4554-8b16-cafd815a406d",
   "metadata": {},
   "outputs": [],
   "source": [
    "# rockruff\n",
    "pokemon.loc[744] = scrap_pokemon_moves(\"Rockruff\")\n",
    "pokemon.loc[745] = scrap_pokemon_moves(\"Lycanroc\")\n",
    "pokemon.loc[746] = scrap_pokemon_moves(\"Wishiwashi\")\n",
    "pokemon.loc[747] = scrap_pokemon_moves(\"Mareanie\")\n",
    "pokemon.loc[748] = scrap_pokemon_moves(\"Toxapex\")"
   ]
  },
  {
   "cell_type": "code",
   "execution_count": 77,
   "id": "917c6f5e-4d7b-449c-b9ee-eb07b9aa5032",
   "metadata": {},
   "outputs": [],
   "source": [
    "# Mudbray\n",
    "pokemon.loc[749] = scrap_pokemon_moves(\"Mudbray\")\n",
    "pokemon.loc[750] = scrap_pokemon_moves(\"Mudsdale\")\n",
    "pokemon.loc[751] = scrap_pokemon_moves(\"Dewpider\")\n",
    "pokemon.loc[752] = scrap_pokemon_moves(\"Araquanid\")\n",
    "pokemon.loc[753] = scrap_pokemon_moves(\"Fomantis\")\n",
    "pokemon.loc[754] = scrap_pokemon_moves(\"Lurantis\")\n",
    "pokemon.loc[755] = scrap_pokemon_moves(\"Morelull\")\n",
    "pokemon.loc[756] = scrap_pokemon_moves(\"Shiinotic\")\n",
    "pokemon.loc[757] = scrap_pokemon_moves(\"Salandit\")\n",
    "pokemon.loc[758] = scrap_pokemon_moves(\"Salazzle\")"
   ]
  },
  {
   "cell_type": "code",
   "execution_count": 78,
   "id": "4312e105-0628-4234-bbfa-af44bfaabb6a",
   "metadata": {},
   "outputs": [],
   "source": [
    "# stufful\n",
    "pokemon.loc[759] = scrap_pokemon_moves(\"Stufful\")\n",
    "pokemon.loc[760] = scrap_pokemon_moves(\"Bewear\")\n",
    "pokemon.loc[761] = scrap_pokemon_moves(\"Bounsweet\")\n",
    "pokemon.loc[762] = scrap_pokemon_moves(\"Steenee\")\n",
    "pokemon.loc[763] = scrap_pokemon_moves(\"Tsareena\")"
   ]
  },
  {
   "cell_type": "code",
   "execution_count": 79,
   "id": "1f9fa9ed-213b-46ce-bdc4-19075394cfb7",
   "metadata": {},
   "outputs": [],
   "source": [
    "# comfey \n",
    "pokemon.loc[764] = scrap_pokemon_moves(\"Comfey\")\n",
    "pokemon.loc[765] = scrap_pokemon_moves(\"Oranguru\")\n",
    "pokemon.loc[766] = scrap_pokemon_moves(\"Passimian\")\n",
    "pokemon.loc[767] = scrap_pokemon_moves(\"Wimpod\")\n",
    "pokemon.loc[768] = scrap_pokemon_moves(\"Golisopod\")\n",
    "pokemon.loc[769] = scrap_pokemon_moves(\"Sandygast\")\n",
    "pokemon.loc[770] = scrap_pokemon_moves(\"Palossand\")"
   ]
  },
  {
   "cell_type": "code",
   "execution_count": 9,
   "id": "cfdefa8a-a03a-45e8-80f8-b4f29118a691",
   "metadata": {},
   "outputs": [],
   "source": [
    "# pyukumuku\n",
    "pokemon.loc[771] = scrap_pokemon_moves(\"Pyukumuku\")\n",
    "pokemon.loc[772] = scrap_pokemon_moves(\"Type:_Null\")\n",
    "pokemon.loc[773] = scrap_pokemon_moves(\"Silvally\")\n",
    "pokemon.loc[774] = scrap_pokemon_moves(\"Minior\")\n",
    "pokemon.loc[775] = scrap_pokemon_moves(\"Komala\")\n",
    "pokemon.loc[776] = scrap_pokemon_moves(\"Turtonator\")\n",
    "pokemon.loc[777] = scrap_pokemon_moves(\"Togedemaru\")\n",
    "pokemon.loc[778] = scrap_pokemon_moves(\"Mimikyu\")"
   ]
  },
  {
   "cell_type": "code",
   "execution_count": 81,
   "id": "8844c30e-20c0-48c5-98dc-07cf13afac4e",
   "metadata": {},
   "outputs": [],
   "source": [
    "# bruxish \n",
    "pokemon.loc[779] = scrap_pokemon_moves(\"Bruxish\")\n",
    "pokemon.loc[780] = scrap_pokemon_moves(\"Drampa\")\n",
    "pokemon.loc[781] = scrap_pokemon_moves(\"Dhelmise\")\n",
    "pokemon.loc[782] = scrap_pokemon_moves(\"Jangmo-o\")\n",
    "pokemon.loc[783] = scrap_pokemon_moves(\"Hakamo-o\")\n",
    "pokemon.loc[784] = scrap_pokemon_moves(\"Kommo-o\")"
   ]
  },
  {
   "cell_type": "code",
   "execution_count": 10,
   "id": "f434957e-89d4-4ff4-956d-754265c01a1e",
   "metadata": {},
   "outputs": [],
   "source": [
    "# legendaries\n",
    "pokemon.loc[785] = scrap_pokemon_moves(\"Tapu_Koko\")\n",
    "pokemon.loc[786] = scrap_pokemon_moves(\"Tapu_Lele\")\n",
    "pokemon.loc[787] = scrap_pokemon_moves(\"Tapu_Bulu\")\n",
    "pokemon.loc[788] = scrap_pokemon_moves(\"Tapu_Fini\")\n",
    "pokemon.loc[789] = scrap_pokemon_moves(\"Cosmog\")\n",
    "pokemon.loc[790] = scrap_pokemon_moves(\"Cosmoem\")\n",
    "pokemon.loc[791] = scrap_pokemon_moves(\"Solgaleo\")\n",
    "pokemon.loc[792] = scrap_pokemon_moves(\"Lunala\")"
   ]
  },
  {
   "cell_type": "code",
   "execution_count": 83,
   "id": "1a2f7817-09aa-4947-ad95-16b017eb2f2a",
   "metadata": {},
   "outputs": [],
   "source": [
    "# ultra beasts\n",
    "pokemon.loc[793] = scrap_pokemon_moves(\"Nihilego\")\n",
    "pokemon.loc[794] = scrap_pokemon_moves(\"Buzzwole\")\n",
    "pokemon.loc[795] = scrap_pokemon_moves(\"Pheromosa\")\n",
    "pokemon.loc[796] = scrap_pokemon_moves(\"Xurkitree\")\n",
    "pokemon.loc[797] = scrap_pokemon_moves(\"Celesteela\")\n",
    "pokemon.loc[798] = scrap_pokemon_moves(\"Kartana\")\n",
    "pokemon.loc[799] = scrap_pokemon_moves(\"Guzzlord\")\n",
    "pokemon.loc[800] = scrap_pokemon_moves(\"Necrozma\")\n",
    "pokemon.loc[801] = scrap_pokemon_moves(\"Magearna\")\n",
    "pokemon.loc[802] = scrap_pokemon_moves(\"Marshadow\")\n",
    "pokemon.loc[803] = scrap_pokemon_moves(\"Poipole\")\n",
    "pokemon.loc[804] = scrap_pokemon_moves(\"Naganadel\")\n",
    "pokemon.loc[805] = scrap_pokemon_moves(\"Stakataka\")\n",
    "pokemon.loc[806] = scrap_pokemon_moves(\"Blacephalon\")\n",
    "pokemon.loc[807] = scrap_pokemon_moves(\"Zeraora\")\n",
    "pokemon.loc[808] = scrap_pokemon_moves(\"Meltan\")\n",
    "pokemon.loc[809] = scrap_pokemon_moves(\"Melmetal\")"
   ]
  },
  {
   "cell_type": "code",
   "execution_count": 84,
   "id": "3162889c-135b-4b95-a506-58bd40879608",
   "metadata": {},
   "outputs": [],
   "source": [
    "# gen 8 starters \n",
    "pokemon.loc[810] = scrap_pokemon_moves(\"Grookey\")\n",
    "pokemon.loc[811] = scrap_pokemon_moves(\"Thwackey\")\n",
    "pokemon.loc[812] = scrap_pokemon_moves(\"Rillaboom\")\n",
    "pokemon.loc[813] = scrap_pokemon_moves(\"Scorbunny\")\n",
    "pokemon.loc[814] = scrap_pokemon_moves(\"Raboot\")\n",
    "pokemon.loc[815] = scrap_pokemon_moves(\"Cinderace\")\n",
    "pokemon.loc[816] = scrap_pokemon_moves(\"Sobble\")\n",
    "pokemon.loc[817] = scrap_pokemon_moves(\"Drizzile\")\n",
    "pokemon.loc[818] = scrap_pokemon_moves(\"Inteleon\")"
   ]
  },
  {
   "cell_type": "code",
   "execution_count": 85,
   "id": "9d54806e-7504-4a30-855e-09fafa7db6c8",
   "metadata": {},
   "outputs": [],
   "source": [
    "# skwovet\n",
    "pokemon.loc[819] = scrap_pokemon_moves(\"Skwovet\")\n",
    "pokemon.loc[820] = scrap_pokemon_moves(\"Greedent\")\n",
    "pokemon.loc[821] = scrap_pokemon_moves(\"Rookidee\")\n",
    "pokemon.loc[822] = scrap_pokemon_moves(\"Corvisquire\")\n",
    "pokemon.loc[823] = scrap_pokemon_moves(\"Corviknight\")\n",
    "pokemon.loc[824] = scrap_pokemon_moves(\"Blipbug\")\n",
    "pokemon.loc[825] = scrap_pokemon_moves(\"Dottler\")\n",
    "pokemon.loc[826] = scrap_pokemon_moves(\"Orbeetle\")\n",
    "pokemon.loc[827] = scrap_pokemon_moves(\"Nickit\")\n",
    "pokemon.loc[828] = scrap_pokemon_moves(\"Thievul\")"
   ]
  },
  {
   "cell_type": "code",
   "execution_count": 86,
   "id": "15875e46-a41f-4beb-9f76-ff990d48e4d7",
   "metadata": {},
   "outputs": [],
   "source": [
    "#gossifleur\n",
    "pokemon.loc[829] = scrap_pokemon_moves(\"Gossifleur\")\n",
    "pokemon.loc[830] = scrap_pokemon_moves(\"Eldegoss\")\n",
    "pokemon.loc[831] = scrap_pokemon_moves(\"Wooloo\")\n",
    "pokemon.loc[832] = scrap_pokemon_moves(\"Dubwool\")\n",
    "pokemon.loc[833] = scrap_pokemon_moves(\"Chewtle\")\n",
    "pokemon.loc[834] = scrap_pokemon_moves(\"Drednaw\")\n",
    "pokemon.loc[835] = scrap_pokemon_moves(\"Yamper\")\n",
    "pokemon.loc[836] = scrap_pokemon_moves(\"Boltund\")\n",
    "pokemon.loc[837] = scrap_pokemon_moves(\"Rolycoly\")\n",
    "pokemon.loc[838] = scrap_pokemon_moves(\"Carkol\")\n",
    "pokemon.loc[839] = scrap_pokemon_moves(\"Coalossal\")"
   ]
  },
  {
   "cell_type": "code",
   "execution_count": 87,
   "id": "b1df40a3-1a96-4e9e-9446-543ae8adad09",
   "metadata": {},
   "outputs": [],
   "source": [
    "# applin'\n",
    "pokemon.loc[840] = scrap_pokemon_moves(\"Applin\")\n",
    "pokemon.loc[841] = scrap_pokemon_moves(\"Flapple\")\n",
    "pokemon.loc[842] = scrap_pokemon_moves(\"Appletun\")\n",
    "pokemon.loc[843] = scrap_pokemon_moves(\"Silicobra\")\n",
    "pokemon.loc[844] = scrap_pokemon_moves(\"Sandaconda\")\n",
    "pokemon.loc[845] = scrap_pokemon_moves(\"Cramorant\")\n",
    "pokemon.loc[846] = scrap_pokemon_moves(\"Arrokuda\")\n",
    "pokemon.loc[847] = scrap_pokemon_moves(\"Barraskewda\")\n",
    "pokemon.loc[848] = scrap_pokemon_moves(\"Toxel\")\n",
    "pokemon.loc[849] = scrap_pokemon_moves(\"Toxtricity\")"
   ]
  },
  {
   "cell_type": "code",
   "execution_count": 88,
   "id": "8fc3b676-2088-4b06-89f6-28b782fb38b6",
   "metadata": {},
   "outputs": [],
   "source": [
    "#sizzlipede\n",
    "pokemon.loc[850] = scrap_pokemon_moves(\"Sizzlipede\")\n",
    "pokemon.loc[851] = scrap_pokemon_moves(\"Centiskorch\")\n",
    "pokemon.loc[852] = scrap_pokemon_moves(\"Clobbopus\")\n",
    "pokemon.loc[853] = scrap_pokemon_moves(\"Grapploct\")\n",
    "pokemon.loc[854] = scrap_pokemon_moves(\"Sinistea\")\n",
    "pokemon.loc[855] = scrap_pokemon_moves(\"Polteageist\")\n",
    "pokemon.loc[856] = scrap_pokemon_moves(\"Hatenna\")\n",
    "pokemon.loc[857] = scrap_pokemon_moves(\"Hattrem\")\n",
    "pokemon.loc[858] = scrap_pokemon_moves(\"Hatterene\")"
   ]
  },
  {
   "cell_type": "code",
   "execution_count": 11,
   "id": "d12fef92-7bc3-445d-95a8-0330fdaeca22",
   "metadata": {},
   "outputs": [],
   "source": [
    "# impidimp\n",
    "pokemon.loc[859] = scrap_pokemon_moves(\"Impidimp\")\n",
    "pokemon.loc[860] = scrap_pokemon_moves(\"Morgrem\")\n",
    "pokemon.loc[861] = scrap_pokemon_moves(\"Grimmsnarl\")\n",
    "pokemon.loc[862] = scrap_pokemon_moves(\"Obstagoon\")\n",
    "pokemon.loc[863] = scrap_pokemon_moves(\"Perrserker\")\n",
    "pokemon.loc[864] = scrap_pokemon_moves(\"Cursola\")\n",
    "pokemon.loc[865] = scrap_pokemon_moves(\"Sirfetch'd\")\n",
    "pokemon.loc[866] = scrap_pokemon_moves(\"Mr._Rime\")\n",
    "pokemon.loc[867] = scrap_pokemon_moves(\"Runerigus\")\n",
    "pokemon.loc[868] = scrap_pokemon_moves(\"Milcery\")\n",
    "pokemon.loc[869] = scrap_pokemon_moves(\"Alcremie\")\n",
    "pokemon.loc[870] = scrap_pokemon_moves(\"Falinks\")\n",
    "pokemon.loc[871] = scrap_pokemon_moves(\"Pincurchin\")"
   ]
  },
  {
   "cell_type": "code",
   "execution_count": 90,
   "id": "170b2992-9898-4faa-acb6-d3ef866cfbb1",
   "metadata": {},
   "outputs": [],
   "source": [
    "# snom\n",
    "pokemon.loc[872] = scrap_pokemon_moves(\"Snom\")\n",
    "pokemon.loc[873] = scrap_pokemon_moves(\"Frosmoth\")\n",
    "pokemon.loc[874] = scrap_pokemon_moves(\"Stonjourner\")\n",
    "pokemon.loc[875] = scrap_pokemon_moves(\"Eiscue\")\n",
    "pokemon.loc[876] = scrap_pokemon_moves(\"Indeedee\")\n",
    "pokemon.loc[877] = scrap_pokemon_moves(\"Morpeko\")\n",
    "pokemon.loc[878] = scrap_pokemon_moves(\"Cufant\")\n",
    "pokemon.loc[879] = scrap_pokemon_moves(\"Copperajah\")"
   ]
  },
  {
   "cell_type": "code",
   "execution_count": 91,
   "id": "7f80a6b0-1a91-4643-8d15-5f65a75c4a6c",
   "metadata": {},
   "outputs": [],
   "source": [
    "# fossils\n",
    "pokemon.loc[880] = scrap_pokemon_moves(\"Dracozolt\")\n",
    "pokemon.loc[881] = scrap_pokemon_moves(\"Arctozolt\")\n",
    "pokemon.loc[882] = scrap_pokemon_moves(\"Dracovish\")\n",
    "pokemon.loc[883] = scrap_pokemon_moves(\"Arctovish\")\n",
    "pokemon.loc[884] = scrap_pokemon_moves(\"Duraludon\")\n",
    "pokemon.loc[885] = scrap_pokemon_moves(\"Dreepy\")\n",
    "pokemon.loc[886] = scrap_pokemon_moves(\"Drakloak\")\n",
    "pokemon.loc[887] = scrap_pokemon_moves(\"Dragapult\")\n"
   ]
  },
  {
   "cell_type": "code",
   "execution_count": 92,
   "id": "2a5d34bd-c13f-456f-9612-fcf966bb2180",
   "metadata": {},
   "outputs": [],
   "source": [
    "#legendaries\n",
    "pokemon.loc[888] = scrap_pokemon_moves(\"Zacian\")\n",
    "pokemon.loc[889] = scrap_pokemon_moves(\"Zamazenta\")\n",
    "pokemon.loc[890] = scrap_pokemon_moves(\"Eternatus\")\n",
    "pokemon.loc[891] = scrap_pokemon_moves(\"Kubfu\")\n",
    "pokemon.loc[892] = scrap_pokemon_moves(\"Urshifu\")\n",
    "pokemon.loc[893] = scrap_pokemon_moves(\"Zarude\")\n",
    "pokemon.loc[894] = scrap_pokemon_moves(\"Regieleki\")\n",
    "pokemon.loc[895] = scrap_pokemon_moves(\"Regidrago\")\n",
    "pokemon.loc[896] = scrap_pokemon_moves(\"Glastrier\")\n",
    "pokemon.loc[897] = scrap_pokemon_moves(\"Spectrier\")\n",
    "pokemon.loc[898] = scrap_pokemon_moves(\"Calyrex\")"
   ]
  },
  {
   "cell_type": "code",
   "execution_count": 93,
   "id": "a3f8cf34-40c1-45e0-a60e-1bcf282373ed",
   "metadata": {},
   "outputs": [],
   "source": [
    "# hisuin \n",
    "pokemon.loc[899] = scrap_pokemon_moves(\"Wyrdeer\")\n",
    "pokemon.loc[900] = scrap_pokemon_moves(\"Kleavor\")\n",
    "pokemon.loc[901] = scrap_pokemon_moves(\"Ursaluna\")\n",
    "pokemon.loc[902] = scrap_pokemon_moves(\"Basculegion\")\n",
    "pokemon.loc[903] = scrap_pokemon_moves(\"Sneasler\")\n",
    "pokemon.loc[904] = scrap_pokemon_moves(\"Overqwil\")\n",
    "pokemon.loc[905] = scrap_pokemon_moves(\"Enamorus\")"
   ]
  },
  {
   "cell_type": "code",
   "execution_count": 94,
   "id": "1a3174e5-c667-40c4-b861-772364366c23",
   "metadata": {},
   "outputs": [],
   "source": [
    "# gen 9 starters\n",
    "pokemon.loc[906] = scrap_pokemon_moves(\"Sprigatito\")\n",
    "pokemon.loc[907] = scrap_pokemon_moves(\"Floragato\")\n",
    "pokemon.loc[908] = scrap_pokemon_moves(\"Meowscarada\")\n",
    "pokemon.loc[909] = scrap_pokemon_moves(\"Fuecoco\")\n",
    "pokemon.loc[910] = scrap_pokemon_moves(\"Crocalor\")\n",
    "pokemon.loc[911] = scrap_pokemon_moves(\"Skeledirge\")\n",
    "pokemon.loc[912] = scrap_pokemon_moves(\"Quaxly\")\n",
    "pokemon.loc[913] = scrap_pokemon_moves(\"Quaxwell\")\n",
    "pokemon.loc[914] = scrap_pokemon_moves(\"Quaquaval\")"
   ]
  },
  {
   "cell_type": "code",
   "execution_count": 95,
   "id": "38f1774b-d791-4437-8670-7f1499580cd1",
   "metadata": {},
   "outputs": [],
   "source": [
    "#lechonk\n",
    "pokemon.loc[915] = scrap_pokemon_moves(\"Lechonk\")\n",
    "pokemon.loc[916] = scrap_pokemon_moves(\"Oinkologne\")\n",
    "pokemon.loc[917] = scrap_pokemon_moves(\"Tarountula\")\n",
    "pokemon.loc[918] = scrap_pokemon_moves(\"Spidops\")\n",
    "pokemon.loc[919] = scrap_pokemon_moves(\"Nymble\")\n",
    "pokemon.loc[920] = scrap_pokemon_moves(\"Lokix\")\n",
    "pokemon.loc[921] = scrap_pokemon_moves(\"Pawmi\")\n",
    "pokemon.loc[922] = scrap_pokemon_moves(\"Pawmo\")\n",
    "pokemon.loc[923] = scrap_pokemon_moves(\"Pawmot\")\n",
    "pokemon.loc[924] = scrap_pokemon_moves(\"Tandemaus\")\n",
    "pokemon.loc[925] = scrap_pokemon_moves(\"Maushold\")\n",
    "pokemon.loc[926] = scrap_pokemon_moves(\"Fidough\")\n",
    "pokemon.loc[927] = scrap_pokemon_moves(\"Dachsbun\")\n",
    "pokemon.loc[928] = scrap_pokemon_moves(\"Smoliv\")\n",
    "pokemon.loc[929] = scrap_pokemon_moves(\"Dolliv\")\n",
    "pokemon.loc[930] = scrap_pokemon_moves(\"Arboliva\")"
   ]
  },
  {
   "cell_type": "code",
   "execution_count": 96,
   "id": "5387c56a-4112-4f0c-8cf3-368f7800501b",
   "metadata": {},
   "outputs": [],
   "source": [
    "# nacli\n",
    "pokemon.loc[931] = scrap_pokemon_moves(\"Squawkabilly\")\n",
    "pokemon.loc[932] = scrap_pokemon_moves(\"Nacli\")\n",
    "pokemon.loc[933] = scrap_pokemon_moves(\"Naclstack\")\n",
    "pokemon.loc[934] = scrap_pokemon_moves(\"Garganacl\")"
   ]
  },
  {
   "cell_type": "code",
   "execution_count": 97,
   "id": "fa9b539a-bf15-4613-802d-1749758bb7ff",
   "metadata": {},
   "outputs": [],
   "source": [
    "# charcadet\n",
    "pokemon.loc[935] = scrap_pokemon_moves(\"Charcadet\")\n",
    "pokemon.loc[936] = scrap_pokemon_moves(\"Armarouge\")\n",
    "pokemon.loc[937] = scrap_pokemon_moves(\"Ceruledge\")\n",
    "pokemon.loc[938] = scrap_pokemon_moves(\"Tadbulb\")\n",
    "pokemon.loc[939] = scrap_pokemon_moves(\"Bellibolt\")\n",
    "pokemon.loc[940] = scrap_pokemon_moves(\"Wattrel\")\n",
    "pokemon.loc[941] = scrap_pokemon_moves(\"Kilowattrel\")\n",
    "pokemon.loc[942] = scrap_pokemon_moves(\"Maschiff\")\n",
    "pokemon.loc[943] = scrap_pokemon_moves(\"Mabosstiff\")\n",
    "pokemon.loc[944] = scrap_pokemon_moves(\"Shroodle\")\n",
    "pokemon.loc[945] = scrap_pokemon_moves(\"Grafaiai\")\n",
    "pokemon.loc[946] = scrap_pokemon_moves(\"Bramblin\")\n",
    "pokemon.loc[947] = scrap_pokemon_moves(\"Brambleghast\")\n",
    "pokemon.loc[948] = scrap_pokemon_moves(\"Toedscool\")\n",
    "pokemon.loc[949] = scrap_pokemon_moves(\"Toedscruel\")\n",
    "pokemon.loc[950] = scrap_pokemon_moves(\"Klawf\")"
   ]
  },
  {
   "cell_type": "code",
   "execution_count": 98,
   "id": "f9633944-3db1-43e0-a9c2-261aea33e676",
   "metadata": {},
   "outputs": [],
   "source": [
    "# capskid\n",
    "pokemon.loc[951] = scrap_pokemon_moves(\"Capsakid\")\n",
    "pokemon.loc[952] = scrap_pokemon_moves(\"Scovillain\")\n",
    "pokemon.loc[953] = scrap_pokemon_moves(\"Rellor\")\n",
    "pokemon.loc[954] = scrap_pokemon_moves(\"Rabsca\")\n",
    "pokemon.loc[955] = scrap_pokemon_moves(\"Flittle\")\n",
    "pokemon.loc[956] = scrap_pokemon_moves(\"Espathra\")\n",
    "pokemon.loc[957] = scrap_pokemon_moves(\"Tinkatink\")\n",
    "pokemon.loc[958] = scrap_pokemon_moves(\"Tinkatuff\")\n",
    "pokemon.loc[959] = scrap_pokemon_moves(\"Tinkaton\")\n",
    "pokemon.loc[960] = scrap_pokemon_moves(\"Wiglett\")\n",
    "pokemon.loc[961] = scrap_pokemon_moves(\"Wugtrio\")\n",
    "pokemon.loc[962] = scrap_pokemon_moves(\"Bombirdier\")"
   ]
  },
  {
   "cell_type": "code",
   "execution_count": 99,
   "id": "1d1afe38-e61f-4961-8f2c-283ca251c944",
   "metadata": {},
   "outputs": [],
   "source": [
    "# finizen\n",
    "pokemon.loc[963] = scrap_pokemon_moves(\"Finizen\")\n",
    "pokemon.loc[964] = scrap_pokemon_moves(\"Palafin\")\n",
    "pokemon.loc[965] = scrap_pokemon_moves(\"Varoom\")\n",
    "pokemon.loc[966] = scrap_pokemon_moves(\"Revavroom\")\n",
    "pokemon.loc[967] = scrap_pokemon_moves(\"Cyclizar\")\n",
    "pokemon.loc[968] = scrap_pokemon_moves(\"Orthworm\")\n",
    "pokemon.loc[969] = scrap_pokemon_moves(\"Glimmet\")\n",
    "pokemon.loc[970] = scrap_pokemon_moves(\"Glimmora\")\n",
    "pokemon.loc[971] = scrap_pokemon_moves(\"Greavard\")\n",
    "pokemon.loc[972] = scrap_pokemon_moves(\"Houndstone\")\n",
    "pokemon.loc[973] = scrap_pokemon_moves(\"Flamigo\")\n",
    "pokemon.loc[974] = scrap_pokemon_moves(\"Cetoddle\")\n",
    "pokemon.loc[975] = scrap_pokemon_moves(\"Cetitan\")\n",
    "pokemon.loc[976] = scrap_pokemon_moves(\"Veluza\")\n",
    "pokemon.loc[977] = scrap_pokemon_moves(\"Dondozo\")\n",
    "pokemon.loc[978] = scrap_pokemon_moves(\"Tatsugiri\")"
   ]
  },
  {
   "cell_type": "code",
   "execution_count": 100,
   "id": "f2f4020a-8893-4140-8702-52d77e62aaf9",
   "metadata": {},
   "outputs": [],
   "source": [
    "# annihalape\n",
    "pokemon.loc[979] = scrap_pokemon_moves(\"Annihilape\")\n",
    "pokemon.loc[980] = scrap_pokemon_moves(\"Clodsire\")\n",
    "pokemon.loc[981] = scrap_pokemon_moves(\"Farigiraf\")\n",
    "pokemon.loc[982] = scrap_pokemon_moves(\"Dudunsparce\")\n",
    "pokemon.loc[983] = scrap_pokemon_moves(\"Kingambit\")"
   ]
  },
  {
   "cell_type": "code",
   "execution_count": 20,
   "id": "6f2c8d62-1655-40c5-b751-e1db44c72e46",
   "metadata": {},
   "outputs": [],
   "source": [
    "# \n",
    "pokemon.loc[984] = scrap_pokemon_moves(\"Great_Tusk\")\n",
    "pokemon.loc[985] = scrap_pokemon_moves(\"Scream_Tail\")\n",
    "pokemon.loc[986] = scrap_pokemon_moves(\"Brute_Bonnet\")\n",
    "pokemon.loc[987] = scrap_pokemon_moves(\"Flutter_Mane\")"
   ]
  },
  {
   "cell_type": "code",
   "execution_count": 12,
   "id": "4159a25e-47be-4b99-ac45-82a2e55b3df9",
   "metadata": {},
   "outputs": [],
   "source": [
    "pokemon.loc[988] = scrap_pokemon_moves(\"Slither_Wing\")\n",
    "pokemon.loc[989] = scrap_pokemon_moves(\"Sandy_Shocks\")\n",
    "pokemon.loc[990] = scrap_pokemon_moves(\"Iron_Treads\")\n",
    "pokemon.loc[991] = scrap_pokemon_moves(\"Iron_Bundle\")\n",
    "pokemon.loc[992] = scrap_pokemon_moves(\"Iron_Hands\")\n",
    "pokemon.loc[993] = scrap_pokemon_moves(\"Iron_Jugulis\")\n",
    "pokemon.loc[994] = scrap_pokemon_moves(\"Iron_Moth\")\n",
    "pokemon.loc[995] = scrap_pokemon_moves(\"Iron_Thorns\")\n",
    "pokemon.loc[996] = scrap_pokemon_moves(\"Frigibax\")\n",
    "pokemon.loc[997] = scrap_pokemon_moves(\"Arctibax\")\n",
    "pokemon.loc[998] = scrap_pokemon_moves(\"Baxcalibur\")"
   ]
  },
  {
   "cell_type": "code",
   "execution_count": 103,
   "id": "6d8845a5-1d6d-4f82-9eb6-76df06372c23",
   "metadata": {},
   "outputs": [],
   "source": [
    "pokemon.loc[999] = scrap_pokemon_moves(\"Gimmighoul\")\n",
    "pokemon.loc[1000] = scrap_pokemon_moves(\"Gholdengo\")"
   ]
  },
  {
   "cell_type": "code",
   "execution_count": 13,
   "id": "5f03cf65-6aeb-4d9f-bbd9-92989758ef77",
   "metadata": {},
   "outputs": [],
   "source": [
    "pokemon.loc[1001] = scrap_pokemon_moves(\"Wo-Chien\")\n",
    "pokemon.loc[1002] = scrap_pokemon_moves(\"Chien-Pao\")\n",
    "pokemon.loc[1003] = scrap_pokemon_moves(\"Ting-Lu\")\n",
    "pokemon.loc[1004] = scrap_pokemon_moves(\"Chi-Yu\")\n",
    "pokemon.loc[1005] = scrap_pokemon_moves(\"Roaring_Moon\")"
   ]
  },
  {
   "cell_type": "code",
   "execution_count": 14,
   "id": "64b70e44-e5ea-44d3-bb8a-425917859769",
   "metadata": {},
   "outputs": [],
   "source": [
    "pokemon.loc[1006] = scrap_pokemon_moves(\"Iron_Valiant\")\n",
    "pokemon.loc[1007] = scrap_pokemon_moves(\"Koraidon\")\n",
    "pokemon.loc[1008] = scrap_pokemon_moves(\"Miraidon\")\n",
    "pokemon.loc[1009] = scrap_pokemon_moves(\"Walking_Wake\")\n",
    "pokemon.loc[1010] = scrap_pokemon_moves(\"Iron_Leaves\")"
   ]
  },
  {
   "cell_type": "code",
   "execution_count": 106,
   "id": "85789322-fe8d-4871-be65-6b6fdfcd034d",
   "metadata": {},
   "outputs": [],
   "source": [
    "pokemon.loc[1011] = scrap_pokemon_moves(\"Dipplin\")\n",
    "pokemon.loc[1012] = scrap_pokemon_moves(\"Poltchageist\")\n",
    "pokemon.loc[1013] = scrap_pokemon_moves(\"Sinistcha\")\n",
    "pokemon.loc[1014] = scrap_pokemon_moves(\"Okidogi\")\n",
    "pokemon.loc[1015] = scrap_pokemon_moves(\"Munkidori\")\n",
    "pokemon.loc[1016] = scrap_pokemon_moves(\"Fezandipiti\")\n",
    "pokemon.loc[1017] = scrap_pokemon_moves(\"Ogerpon\")"
   ]
  },
  {
   "cell_type": "code",
   "execution_count": 15,
   "id": "b5b34c87-d350-4642-9ac8-64900274e7bb",
   "metadata": {},
   "outputs": [],
   "source": [
    "pokemon.loc[1018] = scrap_pokemon_moves(\"Archaludon\")\n",
    "pokemon.loc[1019] = scrap_pokemon_moves(\"Hydrapple\")\n",
    "pokemon.loc[1020] = scrap_pokemon_moves(\"Gouging_Fire\")\n",
    "pokemon.loc[1021] = scrap_pokemon_moves(\"Raging_Bolt\")\n",
    "pokemon.loc[1022] = scrap_pokemon_moves(\"Iron_Boulder\")\n",
    "pokemon.loc[1023] = scrap_pokemon_moves(\"Iron_Crown\")\n",
    "pokemon.loc[1024] = scrap_pokemon_moves(\"Terapagos\")\n",
    "pokemon.loc[1025] = scrap_pokemon_moves(\"Pecharunt\")"
   ]
  },
  {
   "cell_type": "code",
   "execution_count": 15,
   "id": "18f54b19-bbb1-4d1a-b04c-013dba31cb6b",
   "metadata": {
    "tags": []
   },
   "outputs": [
    {
     "data": {
      "text/html": [
       "<div>\n",
       "<style scoped>\n",
       "    .dataframe tbody tr th:only-of-type {\n",
       "        vertical-align: middle;\n",
       "    }\n",
       "\n",
       "    .dataframe tbody tr th {\n",
       "        vertical-align: top;\n",
       "    }\n",
       "\n",
       "    .dataframe thead th {\n",
       "        text-align: right;\n",
       "    }\n",
       "</style>\n",
       "<table border=\"1\" class=\"dataframe\">\n",
       "  <thead>\n",
       "    <tr style=\"text-align: right;\">\n",
       "      <th></th>\n",
       "      <th>name</th>\n",
       "      <th>moves</th>\n",
       "    </tr>\n",
       "  </thead>\n",
       "  <tbody>\n",
       "    <tr>\n",
       "      <th>1</th>\n",
       "      <td>Bulbasaur</td>\n",
       "      <td>[Tackle, Growl, Vine Whip, Growth, Leech Seed,...</td>\n",
       "    </tr>\n",
       "    <tr>\n",
       "      <th>2</th>\n",
       "      <td>Ivysaur</td>\n",
       "      <td>[Tackle, Growl, Vine Whip, Growth, Leech Seed,...</td>\n",
       "    </tr>\n",
       "    <tr>\n",
       "      <th>3</th>\n",
       "      <td>Venusaur</td>\n",
       "      <td>[Power Whip, Tackle, Growl, Vine Whip, Growth,...</td>\n",
       "    </tr>\n",
       "    <tr>\n",
       "      <th>4</th>\n",
       "      <td>NaN</td>\n",
       "      <td>NaN</td>\n",
       "    </tr>\n",
       "    <tr>\n",
       "      <th>5</th>\n",
       "      <td>NaN</td>\n",
       "      <td>NaN</td>\n",
       "    </tr>\n",
       "    <tr>\n",
       "      <th>...</th>\n",
       "      <td>...</td>\n",
       "      <td>...</td>\n",
       "    </tr>\n",
       "    <tr>\n",
       "      <th>1021</th>\n",
       "      <td>NaN</td>\n",
       "      <td>NaN</td>\n",
       "    </tr>\n",
       "    <tr>\n",
       "      <th>1022</th>\n",
       "      <td>NaN</td>\n",
       "      <td>NaN</td>\n",
       "    </tr>\n",
       "    <tr>\n",
       "      <th>1023</th>\n",
       "      <td>NaN</td>\n",
       "      <td>NaN</td>\n",
       "    </tr>\n",
       "    <tr>\n",
       "      <th>1024</th>\n",
       "      <td>NaN</td>\n",
       "      <td>NaN</td>\n",
       "    </tr>\n",
       "    <tr>\n",
       "      <th>1025</th>\n",
       "      <td>NaN</td>\n",
       "      <td>NaN</td>\n",
       "    </tr>\n",
       "  </tbody>\n",
       "</table>\n",
       "<p>1025 rows × 2 columns</p>\n",
       "</div>"
      ],
      "text/plain": [
       "           name                                              moves\n",
       "1     Bulbasaur  [Tackle, Growl, Vine Whip, Growth, Leech Seed,...\n",
       "2       Ivysaur  [Tackle, Growl, Vine Whip, Growth, Leech Seed,...\n",
       "3      Venusaur  [Power Whip, Tackle, Growl, Vine Whip, Growth,...\n",
       "4           NaN                                                NaN\n",
       "5           NaN                                                NaN\n",
       "...         ...                                                ...\n",
       "1021        NaN                                                NaN\n",
       "1022        NaN                                                NaN\n",
       "1023        NaN                                                NaN\n",
       "1024        NaN                                                NaN\n",
       "1025        NaN                                                NaN\n",
       "\n",
       "[1025 rows x 2 columns]"
      ]
     },
     "execution_count": 15,
     "metadata": {},
     "output_type": "execute_result"
    }
   ],
   "source": [
    "pokemon.to_csv(\"../pokemon_moves.csv\")\n",
    "pokemon"
   ]
  },
  {
   "cell_type": "code",
   "execution_count": 63,
   "id": "00d04007-aec7-43b8-86a0-85746e6300f1",
   "metadata": {},
   "outputs": [],
   "source": [
    "text = requests.get(\"https://bulbapedia.bulbagarden.net/wiki/Wigglytuff_(Pok%C3%A9mon)\").text\n",
    "soup = BeautifulSoup(text, \"lxml\")\n",
    "data = soup.find_all(\"td\", class_ = \"roundy\")"
   ]
  },
  {
   "cell_type": "code",
   "execution_count": 126,
   "id": "902a909a-d482-415d-94c9-dcb68181f8ff",
   "metadata": {},
   "outputs": [
    {
     "name": "stdout",
     "output_type": "stream",
     "text": [
      "6 ('Cute Charm', 'Competitive') Frisk\n"
     ]
    },
    {
     "data": {
      "text/plain": [
       "['Cute Charm', 'Cute Charm', 'Competitive', 'Competitive', 'Frisk', 'Frisk']"
      ]
     },
     "execution_count": 126,
     "metadata": {},
     "output_type": "execute_result"
    }
   ],
   "source": [
    "# ability and hidden ability\n",
    "ability_data = data[2]\n",
    "ability_data2 = ability_data.find_all([\"a\", \"span\"])\n",
    "clear_ability = []\n",
    "junk_text = [\"Cacophony\", \"Abilities\", \"Gen IV+\", \"Battle Bond\", \"Battle Bond Greninja\", \"Gen VI+\"]\n",
    "\n",
    "for i in ability_data2:\n",
    "    text = i.text.strip()\n",
    "    if text and text not in junk_text:\n",
    "        clear_ability.append(text)\n",
    "        \n",
    "if len(clear_ability) > 5:\n",
    "    ability = clear_ability[0], clear_ability[2]\n",
    "    hidden_ability = clear_ability[4]\n",
    "elif len(clear_ability) < 5:\n",
    "    ability = clear_ability[0]\n",
    "    hidden_ability = clear_ability[2]\n",
    "print(len(clear_ability), ability, hidden_ability)\n",
    "clear_ability"
   ]
  },
  {
   "cell_type": "code",
   "execution_count": null,
   "id": "001e6abc-e529-4680-b9ca-3e7d8d15f658",
   "metadata": {},
   "outputs": [],
   "source": []
  }
 ],
 "metadata": {
  "kernelspec": {
   "display_name": "Python 3 (ipykernel)",
   "language": "python",
   "name": "python3"
  },
  "language_info": {
   "codemirror_mode": {
    "name": "ipython",
    "version": 3
   },
   "file_extension": ".py",
   "mimetype": "text/x-python",
   "name": "python",
   "nbconvert_exporter": "python",
   "pygments_lexer": "ipython3",
   "version": "3.10.12"
  }
 },
 "nbformat": 4,
 "nbformat_minor": 5
}
