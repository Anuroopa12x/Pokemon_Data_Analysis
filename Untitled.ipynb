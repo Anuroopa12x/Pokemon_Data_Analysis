{
 "cells": [
  {
   "cell_type": "code",
   "execution_count": 6,
   "id": "1bb4e6c7-0622-4a36-a2f2-1b7358d92351",
   "metadata": {},
   "outputs": [],
   "source": [
    "import pandas as pd\n",
    "import numpy as np \n",
    "import seaborn as sns\n",
    "import matplotlib.pyplot as plt\n",
    "import requests \n",
    "from bs4 import BeautifulSoup\n",
    "import re"
   ]
  },
  {
   "cell_type": "code",
   "execution_count": 80,
   "id": "a52b752e-4220-4a4d-921b-3f282e4ee703",
   "metadata": {},
   "outputs": [
    {
     "data": {
      "text/html": [
       "<div>\n",
       "<style scoped>\n",
       "    .dataframe tbody tr th:only-of-type {\n",
       "        vertical-align: middle;\n",
       "    }\n",
       "\n",
       "    .dataframe tbody tr th {\n",
       "        vertical-align: top;\n",
       "    }\n",
       "\n",
       "    .dataframe thead th {\n",
       "        text-align: right;\n",
       "    }\n",
       "</style>\n",
       "<table border=\"1\" class=\"dataframe\">\n",
       "  <thead>\n",
       "    <tr style=\"text-align: right;\">\n",
       "      <th></th>\n",
       "      <th>name</th>\n",
       "      <th>hp</th>\n",
       "      <th>attack</th>\n",
       "      <th>defence</th>\n",
       "      <th>special_attack</th>\n",
       "      <th>special_defense</th>\n",
       "      <th>speed</th>\n",
       "      <th>total</th>\n",
       "    </tr>\n",
       "  </thead>\n",
       "  <tbody>\n",
       "    <tr>\n",
       "      <th>1</th>\n",
       "      <td>NaN</td>\n",
       "      <td>NaN</td>\n",
       "      <td>NaN</td>\n",
       "      <td>NaN</td>\n",
       "      <td>NaN</td>\n",
       "      <td>NaN</td>\n",
       "      <td>NaN</td>\n",
       "      <td>NaN</td>\n",
       "    </tr>\n",
       "    <tr>\n",
       "      <th>2</th>\n",
       "      <td>NaN</td>\n",
       "      <td>NaN</td>\n",
       "      <td>NaN</td>\n",
       "      <td>NaN</td>\n",
       "      <td>NaN</td>\n",
       "      <td>NaN</td>\n",
       "      <td>NaN</td>\n",
       "      <td>NaN</td>\n",
       "    </tr>\n",
       "    <tr>\n",
       "      <th>3</th>\n",
       "      <td>NaN</td>\n",
       "      <td>NaN</td>\n",
       "      <td>NaN</td>\n",
       "      <td>NaN</td>\n",
       "      <td>NaN</td>\n",
       "      <td>NaN</td>\n",
       "      <td>NaN</td>\n",
       "      <td>NaN</td>\n",
       "    </tr>\n",
       "    <tr>\n",
       "      <th>4</th>\n",
       "      <td>NaN</td>\n",
       "      <td>NaN</td>\n",
       "      <td>NaN</td>\n",
       "      <td>NaN</td>\n",
       "      <td>NaN</td>\n",
       "      <td>NaN</td>\n",
       "      <td>NaN</td>\n",
       "      <td>NaN</td>\n",
       "    </tr>\n",
       "    <tr>\n",
       "      <th>5</th>\n",
       "      <td>NaN</td>\n",
       "      <td>NaN</td>\n",
       "      <td>NaN</td>\n",
       "      <td>NaN</td>\n",
       "      <td>NaN</td>\n",
       "      <td>NaN</td>\n",
       "      <td>NaN</td>\n",
       "      <td>NaN</td>\n",
       "    </tr>\n",
       "    <tr>\n",
       "      <th>...</th>\n",
       "      <td>...</td>\n",
       "      <td>...</td>\n",
       "      <td>...</td>\n",
       "      <td>...</td>\n",
       "      <td>...</td>\n",
       "      <td>...</td>\n",
       "      <td>...</td>\n",
       "      <td>...</td>\n",
       "    </tr>\n",
       "    <tr>\n",
       "      <th>1021</th>\n",
       "      <td>NaN</td>\n",
       "      <td>NaN</td>\n",
       "      <td>NaN</td>\n",
       "      <td>NaN</td>\n",
       "      <td>NaN</td>\n",
       "      <td>NaN</td>\n",
       "      <td>NaN</td>\n",
       "      <td>NaN</td>\n",
       "    </tr>\n",
       "    <tr>\n",
       "      <th>1022</th>\n",
       "      <td>NaN</td>\n",
       "      <td>NaN</td>\n",
       "      <td>NaN</td>\n",
       "      <td>NaN</td>\n",
       "      <td>NaN</td>\n",
       "      <td>NaN</td>\n",
       "      <td>NaN</td>\n",
       "      <td>NaN</td>\n",
       "    </tr>\n",
       "    <tr>\n",
       "      <th>1023</th>\n",
       "      <td>NaN</td>\n",
       "      <td>NaN</td>\n",
       "      <td>NaN</td>\n",
       "      <td>NaN</td>\n",
       "      <td>NaN</td>\n",
       "      <td>NaN</td>\n",
       "      <td>NaN</td>\n",
       "      <td>NaN</td>\n",
       "    </tr>\n",
       "    <tr>\n",
       "      <th>1024</th>\n",
       "      <td>NaN</td>\n",
       "      <td>NaN</td>\n",
       "      <td>NaN</td>\n",
       "      <td>NaN</td>\n",
       "      <td>NaN</td>\n",
       "      <td>NaN</td>\n",
       "      <td>NaN</td>\n",
       "      <td>NaN</td>\n",
       "    </tr>\n",
       "    <tr>\n",
       "      <th>1025</th>\n",
       "      <td>NaN</td>\n",
       "      <td>NaN</td>\n",
       "      <td>NaN</td>\n",
       "      <td>NaN</td>\n",
       "      <td>NaN</td>\n",
       "      <td>NaN</td>\n",
       "      <td>NaN</td>\n",
       "      <td>NaN</td>\n",
       "    </tr>\n",
       "  </tbody>\n",
       "</table>\n",
       "<p>1025 rows × 8 columns</p>\n",
       "</div>"
      ],
      "text/plain": [
       "     name   hp attack defence special_attack special_defense speed total\n",
       "1     NaN  NaN    NaN     NaN            NaN             NaN   NaN   NaN\n",
       "2     NaN  NaN    NaN     NaN            NaN             NaN   NaN   NaN\n",
       "3     NaN  NaN    NaN     NaN            NaN             NaN   NaN   NaN\n",
       "4     NaN  NaN    NaN     NaN            NaN             NaN   NaN   NaN\n",
       "5     NaN  NaN    NaN     NaN            NaN             NaN   NaN   NaN\n",
       "...   ...  ...    ...     ...            ...             ...   ...   ...\n",
       "1021  NaN  NaN    NaN     NaN            NaN             NaN   NaN   NaN\n",
       "1022  NaN  NaN    NaN     NaN            NaN             NaN   NaN   NaN\n",
       "1023  NaN  NaN    NaN     NaN            NaN             NaN   NaN   NaN\n",
       "1024  NaN  NaN    NaN     NaN            NaN             NaN   NaN   NaN\n",
       "1025  NaN  NaN    NaN     NaN            NaN             NaN   NaN   NaN\n",
       "\n",
       "[1025 rows x 8 columns]"
      ]
     },
     "execution_count": 80,
     "metadata": {},
     "output_type": "execute_result"
    }
   ],
   "source": [
    "pokemon = pd.DataFrame(columns = [\"name\", \"hp\", \"attack\", \"defence\", \"special_attack\", \n",
    "                      \"special_defense\", \"speed\", \"total\"], index = range(1, 1026))\n",
    "pokemon"
   ]
  },
  {
   "cell_type": "code",
   "execution_count": 82,
   "id": "cbd200ef-efb8-44ff-9c77-e8bf6c5458a1",
   "metadata": {},
   "outputs": [
    {
     "ename": "FileNotFoundError",
     "evalue": "[Errno 2] No such file or directory: '/home/user/Desktop/Data_analysis_projects/Pokemon/stats.csv'",
     "output_type": "error",
     "traceback": [
      "\u001b[0;31m---------------------------------------------------------------------------\u001b[0m",
      "\u001b[0;31mFileNotFoundError\u001b[0m                         Traceback (most recent call last)",
      "\u001b[0;32m<ipython-input-82-bd3399f3dd75>\u001b[0m in \u001b[0;36m<module>\u001b[0;34m\u001b[0m\n\u001b[0;32m----> 1\u001b[0;31m \u001b[0mpokemon\u001b[0m \u001b[0;34m=\u001b[0m \u001b[0mpd\u001b[0m\u001b[0;34m.\u001b[0m\u001b[0mread_csv\u001b[0m\u001b[0;34m(\u001b[0m\u001b[0;34m\"/home/user/Desktop/Data_analysis_projects/Pokemon/stats.csv\"\u001b[0m\u001b[0;34m,\u001b[0m \u001b[0mindex_col\u001b[0m \u001b[0;34m=\u001b[0m \u001b[0;36m0\u001b[0m\u001b[0;34m)\u001b[0m\u001b[0;34m\u001b[0m\u001b[0;34m\u001b[0m\u001b[0m\n\u001b[0m",
      "\u001b[0;32m~/.local/lib/python3.6/site-packages/pandas/io/parsers.py\u001b[0m in \u001b[0;36mread_csv\u001b[0;34m(filepath_or_buffer, sep, delimiter, header, names, index_col, usecols, squeeze, prefix, mangle_dupe_cols, dtype, engine, converters, true_values, false_values, skipinitialspace, skiprows, skipfooter, nrows, na_values, keep_default_na, na_filter, verbose, skip_blank_lines, parse_dates, infer_datetime_format, keep_date_col, date_parser, dayfirst, cache_dates, iterator, chunksize, compression, thousands, decimal, lineterminator, quotechar, quoting, doublequote, escapechar, comment, encoding, dialect, error_bad_lines, warn_bad_lines, delim_whitespace, low_memory, memory_map, float_precision)\u001b[0m\n\u001b[1;32m    686\u001b[0m     )\n\u001b[1;32m    687\u001b[0m \u001b[0;34m\u001b[0m\u001b[0m\n\u001b[0;32m--> 688\u001b[0;31m     \u001b[0;32mreturn\u001b[0m \u001b[0m_read\u001b[0m\u001b[0;34m(\u001b[0m\u001b[0mfilepath_or_buffer\u001b[0m\u001b[0;34m,\u001b[0m \u001b[0mkwds\u001b[0m\u001b[0;34m)\u001b[0m\u001b[0;34m\u001b[0m\u001b[0;34m\u001b[0m\u001b[0m\n\u001b[0m\u001b[1;32m    689\u001b[0m \u001b[0;34m\u001b[0m\u001b[0m\n\u001b[1;32m    690\u001b[0m \u001b[0;34m\u001b[0m\u001b[0m\n",
      "\u001b[0;32m~/.local/lib/python3.6/site-packages/pandas/io/parsers.py\u001b[0m in \u001b[0;36m_read\u001b[0;34m(filepath_or_buffer, kwds)\u001b[0m\n\u001b[1;32m    452\u001b[0m \u001b[0;34m\u001b[0m\u001b[0m\n\u001b[1;32m    453\u001b[0m     \u001b[0;31m# Create the parser.\u001b[0m\u001b[0;34m\u001b[0m\u001b[0;34m\u001b[0m\u001b[0;34m\u001b[0m\u001b[0m\n\u001b[0;32m--> 454\u001b[0;31m     \u001b[0mparser\u001b[0m \u001b[0;34m=\u001b[0m \u001b[0mTextFileReader\u001b[0m\u001b[0;34m(\u001b[0m\u001b[0mfp_or_buf\u001b[0m\u001b[0;34m,\u001b[0m \u001b[0;34m**\u001b[0m\u001b[0mkwds\u001b[0m\u001b[0;34m)\u001b[0m\u001b[0;34m\u001b[0m\u001b[0;34m\u001b[0m\u001b[0m\n\u001b[0m\u001b[1;32m    455\u001b[0m \u001b[0;34m\u001b[0m\u001b[0m\n\u001b[1;32m    456\u001b[0m     \u001b[0;32mif\u001b[0m \u001b[0mchunksize\u001b[0m \u001b[0;32mor\u001b[0m \u001b[0miterator\u001b[0m\u001b[0;34m:\u001b[0m\u001b[0;34m\u001b[0m\u001b[0;34m\u001b[0m\u001b[0m\n",
      "\u001b[0;32m~/.local/lib/python3.6/site-packages/pandas/io/parsers.py\u001b[0m in \u001b[0;36m__init__\u001b[0;34m(self, f, engine, **kwds)\u001b[0m\n\u001b[1;32m    946\u001b[0m             \u001b[0mself\u001b[0m\u001b[0;34m.\u001b[0m\u001b[0moptions\u001b[0m\u001b[0;34m[\u001b[0m\u001b[0;34m\"has_index_names\"\u001b[0m\u001b[0;34m]\u001b[0m \u001b[0;34m=\u001b[0m \u001b[0mkwds\u001b[0m\u001b[0;34m[\u001b[0m\u001b[0;34m\"has_index_names\"\u001b[0m\u001b[0;34m]\u001b[0m\u001b[0;34m\u001b[0m\u001b[0;34m\u001b[0m\u001b[0m\n\u001b[1;32m    947\u001b[0m \u001b[0;34m\u001b[0m\u001b[0m\n\u001b[0;32m--> 948\u001b[0;31m         \u001b[0mself\u001b[0m\u001b[0;34m.\u001b[0m\u001b[0m_make_engine\u001b[0m\u001b[0;34m(\u001b[0m\u001b[0mself\u001b[0m\u001b[0;34m.\u001b[0m\u001b[0mengine\u001b[0m\u001b[0;34m)\u001b[0m\u001b[0;34m\u001b[0m\u001b[0;34m\u001b[0m\u001b[0m\n\u001b[0m\u001b[1;32m    949\u001b[0m \u001b[0;34m\u001b[0m\u001b[0m\n\u001b[1;32m    950\u001b[0m     \u001b[0;32mdef\u001b[0m \u001b[0mclose\u001b[0m\u001b[0;34m(\u001b[0m\u001b[0mself\u001b[0m\u001b[0;34m)\u001b[0m\u001b[0;34m:\u001b[0m\u001b[0;34m\u001b[0m\u001b[0;34m\u001b[0m\u001b[0m\n",
      "\u001b[0;32m~/.local/lib/python3.6/site-packages/pandas/io/parsers.py\u001b[0m in \u001b[0;36m_make_engine\u001b[0;34m(self, engine)\u001b[0m\n\u001b[1;32m   1178\u001b[0m     \u001b[0;32mdef\u001b[0m \u001b[0m_make_engine\u001b[0m\u001b[0;34m(\u001b[0m\u001b[0mself\u001b[0m\u001b[0;34m,\u001b[0m \u001b[0mengine\u001b[0m\u001b[0;34m=\u001b[0m\u001b[0;34m\"c\"\u001b[0m\u001b[0;34m)\u001b[0m\u001b[0;34m:\u001b[0m\u001b[0;34m\u001b[0m\u001b[0;34m\u001b[0m\u001b[0m\n\u001b[1;32m   1179\u001b[0m         \u001b[0;32mif\u001b[0m \u001b[0mengine\u001b[0m \u001b[0;34m==\u001b[0m \u001b[0;34m\"c\"\u001b[0m\u001b[0;34m:\u001b[0m\u001b[0;34m\u001b[0m\u001b[0;34m\u001b[0m\u001b[0m\n\u001b[0;32m-> 1180\u001b[0;31m             \u001b[0mself\u001b[0m\u001b[0;34m.\u001b[0m\u001b[0m_engine\u001b[0m \u001b[0;34m=\u001b[0m \u001b[0mCParserWrapper\u001b[0m\u001b[0;34m(\u001b[0m\u001b[0mself\u001b[0m\u001b[0;34m.\u001b[0m\u001b[0mf\u001b[0m\u001b[0;34m,\u001b[0m \u001b[0;34m**\u001b[0m\u001b[0mself\u001b[0m\u001b[0;34m.\u001b[0m\u001b[0moptions\u001b[0m\u001b[0;34m)\u001b[0m\u001b[0;34m\u001b[0m\u001b[0;34m\u001b[0m\u001b[0m\n\u001b[0m\u001b[1;32m   1181\u001b[0m         \u001b[0;32melse\u001b[0m\u001b[0;34m:\u001b[0m\u001b[0;34m\u001b[0m\u001b[0;34m\u001b[0m\u001b[0m\n\u001b[1;32m   1182\u001b[0m             \u001b[0;32mif\u001b[0m \u001b[0mengine\u001b[0m \u001b[0;34m==\u001b[0m \u001b[0;34m\"python\"\u001b[0m\u001b[0;34m:\u001b[0m\u001b[0;34m\u001b[0m\u001b[0;34m\u001b[0m\u001b[0m\n",
      "\u001b[0;32m~/.local/lib/python3.6/site-packages/pandas/io/parsers.py\u001b[0m in \u001b[0;36m__init__\u001b[0;34m(self, src, **kwds)\u001b[0m\n\u001b[1;32m   2008\u001b[0m         \u001b[0mkwds\u001b[0m\u001b[0;34m[\u001b[0m\u001b[0;34m\"usecols\"\u001b[0m\u001b[0;34m]\u001b[0m \u001b[0;34m=\u001b[0m \u001b[0mself\u001b[0m\u001b[0;34m.\u001b[0m\u001b[0musecols\u001b[0m\u001b[0;34m\u001b[0m\u001b[0;34m\u001b[0m\u001b[0m\n\u001b[1;32m   2009\u001b[0m \u001b[0;34m\u001b[0m\u001b[0m\n\u001b[0;32m-> 2010\u001b[0;31m         \u001b[0mself\u001b[0m\u001b[0;34m.\u001b[0m\u001b[0m_reader\u001b[0m \u001b[0;34m=\u001b[0m \u001b[0mparsers\u001b[0m\u001b[0;34m.\u001b[0m\u001b[0mTextReader\u001b[0m\u001b[0;34m(\u001b[0m\u001b[0msrc\u001b[0m\u001b[0;34m,\u001b[0m \u001b[0;34m**\u001b[0m\u001b[0mkwds\u001b[0m\u001b[0;34m)\u001b[0m\u001b[0;34m\u001b[0m\u001b[0;34m\u001b[0m\u001b[0m\n\u001b[0m\u001b[1;32m   2011\u001b[0m         \u001b[0mself\u001b[0m\u001b[0;34m.\u001b[0m\u001b[0munnamed_cols\u001b[0m \u001b[0;34m=\u001b[0m \u001b[0mself\u001b[0m\u001b[0;34m.\u001b[0m\u001b[0m_reader\u001b[0m\u001b[0;34m.\u001b[0m\u001b[0munnamed_cols\u001b[0m\u001b[0;34m\u001b[0m\u001b[0;34m\u001b[0m\u001b[0m\n\u001b[1;32m   2012\u001b[0m \u001b[0;34m\u001b[0m\u001b[0m\n",
      "\u001b[0;32mpandas/_libs/parsers.pyx\u001b[0m in \u001b[0;36mpandas._libs.parsers.TextReader.__cinit__\u001b[0;34m()\u001b[0m\n",
      "\u001b[0;32mpandas/_libs/parsers.pyx\u001b[0m in \u001b[0;36mpandas._libs.parsers.TextReader._setup_parser_source\u001b[0;34m()\u001b[0m\n",
      "\u001b[0;31mFileNotFoundError\u001b[0m: [Errno 2] No such file or directory: '/home/user/Desktop/Data_analysis_projects/Pokemon/stats.csv'"
     ]
    }
   ],
   "source": [
    "pokemon = pd.read_csv(\"/home/user/Desktop/Data_analysis_projects/Pokemon/stats.csv\", index_col = 0)"
   ]
  },
  {
   "cell_type": "code",
   "execution_count": 81,
   "id": "6df595c9-76ea-428f-aa37-3b3c2e27c129",
   "metadata": {},
   "outputs": [],
   "source": [
    "pokemon.loc[0] = None"
   ]
  },
  {
   "cell_type": "code",
   "execution_count": 78,
   "id": "4e72eb69-e5a1-4a46-a243-dad417e14a4b",
   "metadata": {},
   "outputs": [],
   "source": [
    "# Creating a function for finding stats of a pokemon \n",
    "def scrap_pokemon_details(pokemon_name):\n",
    "    # requesting text\n",
    "    text = requests.get(f\"https://bulbapedia.bulbagarden.net/wiki/{pokemon_name}_(Pok%C3%A9mon)\").text\n",
    "    \n",
    "    # Creating BeautifulSoup instance\n",
    "    soup = BeautifulSoup(text, \"lxml\")\n",
    "    \n",
    "    # Hp \n",
    "    hp_data = soup.find(\"tr\", style = \"background: #9EE865; text-align:center\")\n",
    "    hp_data2 = hp_data.find_all(\"div\")\n",
    "    hp = hp_data2[1].text.strip()\n",
    "    if hp.isnumeric():\n",
    "        hp = int(hp)\n",
    "    else:\n",
    "        print(\"Hp is not numeric\")\n",
    "    \n",
    "    # attack\n",
    "    attack_data = soup.find(\"tr\", style = \"background: #F5DE69; text-align:center\") \n",
    "    attack_data2 = attack_data.find_all(\"div\")\n",
    "    attack = attack_data2[1].text.strip()\n",
    "    if attack.isnumeric():\n",
    "        attack = int(attack)\n",
    "    else:\n",
    "        print(\"attack is not numeric\")\n",
    "    \n",
    "    # defense\n",
    "    defense_data = soup.find(\"tr\", style = \"background: #F09A65; text-align:center\")\n",
    "    defense_data2 = defense_data.find_all(\"div\")\n",
    "    defense = defense_data2[1].text.strip()\n",
    "    if defense.isnumeric():\n",
    "        defense = int(defense)\n",
    "    else:\n",
    "        print(\"Defense is not numeric\")\n",
    "    \n",
    "    # special attack\n",
    "    special_attack_data = soup.find(\"tr\", style = \"background: #66D8F6; text-align:center\")\n",
    "    special_attack_data2 = special_attack_data.find_all(\"div\")\n",
    "    special_attack = special_attack_data2[1].text.strip()\n",
    "    if special_attack.isnumeric():\n",
    "        special_attack = int(special_attack)\n",
    "    else:\n",
    "        print(\"Special Attack is not numeric\")\n",
    "    \n",
    "    # special defense\n",
    "    special_defense_data = soup.find(\"tr\", style = \"background: #899EEA; text-align:center\")\n",
    "    special_defense_data2 = special_defense_data.find_all(\"div\")\n",
    "    special_defense = special_defense_data2[1].text.strip()\n",
    "    if special_defense.isnumeric():\n",
    "        special_defense = int(special_defense)\n",
    "    else:\n",
    "        print(\"Special Defense is not numeric\")\n",
    "        \n",
    "    # speed\n",
    "    speed_data = soup.find(\"tr\", style=\"background: #E46CCA; text-align:center\")\n",
    "    speed_data2 = speed_data.find_all(\"div\")\n",
    "    speed = speed_data2[1].text.strip()\n",
    "    if speed.isnumeric():\n",
    "        speed = int(speed)\n",
    "    else:\n",
    "        print(\"Speed is not numeric\")\n",
    "    # total\n",
    "    total = hp + attack + defense + special_attack + special_defense + speed\n",
    "    \n",
    "    return {\"name\" : pokemon_name, \"hp\" : hp, \"attack\" : attack, \"defense\" : defense,\n",
    "           \"special_attack\" : special_attack, \"special_defense\" : special_defense,\n",
    "           \"speed\" : speed, \"total\" : total}"
   ]
  },
  {
   "cell_type": "code",
   "execution_count": 83,
   "id": "d42da5d8-f69e-44b5-86c2-bbfdb24c7a35",
   "metadata": {},
   "outputs": [],
   "source": [
    "# gen1 starters\n",
    "bulbasaur_data = scrap_pokemon_details(\"Bulbasaur\")\n",
    "pokemon.loc[1] = bulbasaur_data\n",
    "ivysaur_data = scrap_pokemon_details(\"Ivysaur\")\n",
    "pokemon.loc[2] = ivysaur_data\n",
    "venusaur_data = scrap_pokemon_details(\"Venusaur\")\n",
    "pokemon.loc[3] = venusaur_data\n"
   ]
  },
  {
   "cell_type": "code",
   "execution_count": 84,
   "id": "b702cdea-6109-42fe-ae6f-b26907536af2",
   "metadata": {},
   "outputs": [
    {
     "data": {
      "text/html": [
       "<div>\n",
       "<style scoped>\n",
       "    .dataframe tbody tr th:only-of-type {\n",
       "        vertical-align: middle;\n",
       "    }\n",
       "\n",
       "    .dataframe tbody tr th {\n",
       "        vertical-align: top;\n",
       "    }\n",
       "\n",
       "    .dataframe thead th {\n",
       "        text-align: right;\n",
       "    }\n",
       "</style>\n",
       "<table border=\"1\" class=\"dataframe\">\n",
       "  <thead>\n",
       "    <tr style=\"text-align: right;\">\n",
       "      <th></th>\n",
       "      <th>name</th>\n",
       "      <th>hp</th>\n",
       "      <th>attack</th>\n",
       "      <th>defence</th>\n",
       "      <th>special_attack</th>\n",
       "      <th>special_defense</th>\n",
       "      <th>speed</th>\n",
       "      <th>total</th>\n",
       "    </tr>\n",
       "  </thead>\n",
       "  <tbody>\n",
       "    <tr>\n",
       "      <th>1</th>\n",
       "      <td>Bulbasaur</td>\n",
       "      <td>45</td>\n",
       "      <td>49</td>\n",
       "      <td>NaN</td>\n",
       "      <td>65</td>\n",
       "      <td>65</td>\n",
       "      <td>45</td>\n",
       "      <td>318</td>\n",
       "    </tr>\n",
       "    <tr>\n",
       "      <th>2</th>\n",
       "      <td>Ivysaur</td>\n",
       "      <td>60</td>\n",
       "      <td>62</td>\n",
       "      <td>NaN</td>\n",
       "      <td>80</td>\n",
       "      <td>80</td>\n",
       "      <td>60</td>\n",
       "      <td>405</td>\n",
       "    </tr>\n",
       "    <tr>\n",
       "      <th>3</th>\n",
       "      <td>Venusaur</td>\n",
       "      <td>80</td>\n",
       "      <td>82</td>\n",
       "      <td>NaN</td>\n",
       "      <td>100</td>\n",
       "      <td>100</td>\n",
       "      <td>80</td>\n",
       "      <td>525</td>\n",
       "    </tr>\n",
       "    <tr>\n",
       "      <th>4</th>\n",
       "      <td>NaN</td>\n",
       "      <td>NaN</td>\n",
       "      <td>NaN</td>\n",
       "      <td>NaN</td>\n",
       "      <td>NaN</td>\n",
       "      <td>NaN</td>\n",
       "      <td>NaN</td>\n",
       "      <td>NaN</td>\n",
       "    </tr>\n",
       "    <tr>\n",
       "      <th>5</th>\n",
       "      <td>NaN</td>\n",
       "      <td>NaN</td>\n",
       "      <td>NaN</td>\n",
       "      <td>NaN</td>\n",
       "      <td>NaN</td>\n",
       "      <td>NaN</td>\n",
       "      <td>NaN</td>\n",
       "      <td>NaN</td>\n",
       "    </tr>\n",
       "    <tr>\n",
       "      <th>...</th>\n",
       "      <td>...</td>\n",
       "      <td>...</td>\n",
       "      <td>...</td>\n",
       "      <td>...</td>\n",
       "      <td>...</td>\n",
       "      <td>...</td>\n",
       "      <td>...</td>\n",
       "      <td>...</td>\n",
       "    </tr>\n",
       "    <tr>\n",
       "      <th>1022</th>\n",
       "      <td>NaN</td>\n",
       "      <td>NaN</td>\n",
       "      <td>NaN</td>\n",
       "      <td>NaN</td>\n",
       "      <td>NaN</td>\n",
       "      <td>NaN</td>\n",
       "      <td>NaN</td>\n",
       "      <td>NaN</td>\n",
       "    </tr>\n",
       "    <tr>\n",
       "      <th>1023</th>\n",
       "      <td>NaN</td>\n",
       "      <td>NaN</td>\n",
       "      <td>NaN</td>\n",
       "      <td>NaN</td>\n",
       "      <td>NaN</td>\n",
       "      <td>NaN</td>\n",
       "      <td>NaN</td>\n",
       "      <td>NaN</td>\n",
       "    </tr>\n",
       "    <tr>\n",
       "      <th>1024</th>\n",
       "      <td>NaN</td>\n",
       "      <td>NaN</td>\n",
       "      <td>NaN</td>\n",
       "      <td>NaN</td>\n",
       "      <td>NaN</td>\n",
       "      <td>NaN</td>\n",
       "      <td>NaN</td>\n",
       "      <td>NaN</td>\n",
       "    </tr>\n",
       "    <tr>\n",
       "      <th>1025</th>\n",
       "      <td>NaN</td>\n",
       "      <td>NaN</td>\n",
       "      <td>NaN</td>\n",
       "      <td>NaN</td>\n",
       "      <td>NaN</td>\n",
       "      <td>NaN</td>\n",
       "      <td>NaN</td>\n",
       "      <td>NaN</td>\n",
       "    </tr>\n",
       "    <tr>\n",
       "      <th>0</th>\n",
       "      <td>NaN</td>\n",
       "      <td>NaN</td>\n",
       "      <td>NaN</td>\n",
       "      <td>NaN</td>\n",
       "      <td>NaN</td>\n",
       "      <td>NaN</td>\n",
       "      <td>NaN</td>\n",
       "      <td>NaN</td>\n",
       "    </tr>\n",
       "  </tbody>\n",
       "</table>\n",
       "<p>1026 rows × 8 columns</p>\n",
       "</div>"
      ],
      "text/plain": [
       "           name   hp attack defence special_attack special_defense speed total\n",
       "1     Bulbasaur   45     49     NaN             65              65    45   318\n",
       "2       Ivysaur   60     62     NaN             80              80    60   405\n",
       "3      Venusaur   80     82     NaN            100             100    80   525\n",
       "4           NaN  NaN    NaN     NaN            NaN             NaN   NaN   NaN\n",
       "5           NaN  NaN    NaN     NaN            NaN             NaN   NaN   NaN\n",
       "...         ...  ...    ...     ...            ...             ...   ...   ...\n",
       "1022        NaN  NaN    NaN     NaN            NaN             NaN   NaN   NaN\n",
       "1023        NaN  NaN    NaN     NaN            NaN             NaN   NaN   NaN\n",
       "1024        NaN  NaN    NaN     NaN            NaN             NaN   NaN   NaN\n",
       "1025        NaN  NaN    NaN     NaN            NaN             NaN   NaN   NaN\n",
       "0           NaN  NaN    NaN     NaN            NaN             NaN   NaN   NaN\n",
       "\n",
       "[1026 rows x 8 columns]"
      ]
     },
     "execution_count": 84,
     "metadata": {},
     "output_type": "execute_result"
    }
   ],
   "source": [
    "pokemon.to_csv(\"/home/user/Desktop/Data_analysis_projects/Pokemon/stats.csv\")\n",
    "pokemon"
   ]
  },
  {
   "cell_type": "code",
   "execution_count": 54,
   "id": "dde8a288-bab1-425b-b4d5-b181339547de",
   "metadata": {},
   "outputs": [],
   "source": [
    "text = requests.get(\"https://bulbapedia.bulbagarden.net/wiki/Salamence_(Pok%C3%A9mon)\").text"
   ]
  },
  {
   "cell_type": "code",
   "execution_count": 55,
   "id": "20b24e3c-9052-4d46-ad0e-5f62358793a1",
   "metadata": {},
   "outputs": [],
   "source": [
    "soup = BeautifulSoup(text, \"lxml\")"
   ]
  },
  {
   "cell_type": "code",
   "execution_count": 56,
   "id": "a2e1fb0c-2981-4f9e-a608-3699ed7e54bd",
   "metadata": {},
   "outputs": [
    {
     "data": {
      "text/plain": [
       "'95'"
      ]
     },
     "execution_count": 56,
     "metadata": {},
     "output_type": "execute_result"
    }
   ],
   "source": [
    "# hp\n",
    "hp_data = soup.find(\"tr\", style = \"background: #9EE865; text-align:center\")\n",
    "hp_data2 = hp_data.find_all(\"div\")\n",
    "hp = hp_data2[1].text\n",
    "hp"
   ]
  },
  {
   "cell_type": "code",
   "execution_count": 57,
   "id": "01769585-324e-4540-94c6-7ffe8d1c9785",
   "metadata": {},
   "outputs": [
    {
     "data": {
      "text/plain": [
       "'135'"
      ]
     },
     "execution_count": 57,
     "metadata": {},
     "output_type": "execute_result"
    }
   ],
   "source": [
    "# attack\n",
    "\n",
    "attack"
   ]
  },
  {
   "cell_type": "code",
   "execution_count": 58,
   "id": "c73c9891-f2e1-4b17-b39d-00c7077fa563",
   "metadata": {},
   "outputs": [
    {
     "data": {
      "text/plain": [
       "'80'"
      ]
     },
     "execution_count": 58,
     "metadata": {},
     "output_type": "execute_result"
    }
   ],
   "source": [
    "# defense \n",
    "defense_data = soup.find(\"tr\", style = \"background: #F09A65; text-align:center\")\n",
    "defense_data2 = defense_data.find_all(\"div\")\n",
    "defense = defense_data2[1].text\n",
    "defense"
   ]
  },
  {
   "cell_type": "code",
   "execution_count": 59,
   "id": "5e849c6d-d98c-4384-9831-e7d037ed6fa8",
   "metadata": {},
   "outputs": [
    {
     "data": {
      "text/plain": [
       "'110'"
      ]
     },
     "execution_count": 59,
     "metadata": {},
     "output_type": "execute_result"
    }
   ],
   "source": [
    "# special attack\n",
    "special_attack_data = soup.find(\"tr\", style = \"background: #66D8F6; text-align:center\")\n",
    "special_attack_data2 = special_attack_data.find_all(\"div\")\n",
    "special_attack = special_attack_data2[1].text\n",
    "special_attack"
   ]
  },
  {
   "cell_type": "code",
   "execution_count": 72,
   "id": "b5c16472-b519-4f6d-8bb1-1799d64da79e",
   "metadata": {},
   "outputs": [
    {
     "data": {
      "text/plain": [
       "True"
      ]
     },
     "execution_count": 72,
     "metadata": {},
     "output_type": "execute_result"
    }
   ],
   "source": [
    "# special defense\n",
    "special_defense_data = soup.find(\"tr\", style = \"background: #899EEA; text-align:center\")\n",
    "special_defense_data2 = special_defense_data.find_all(\"div\")\n",
    "special_defense = special_defense_data2[1].text\n",
    "special_defense\n",
    "special_defense.isnumeric"
   ]
  },
  {
   "cell_type": "code",
   "execution_count": 61,
   "id": "9c347f6f-f363-4a9a-8433-ca1a4912febc",
   "metadata": {},
   "outputs": [
    {
     "data": {
      "text/plain": [
       "'100'"
      ]
     },
     "execution_count": 61,
     "metadata": {},
     "output_type": "execute_result"
    }
   ],
   "source": [
    "# speed\n",
    "speed_data = soup.find(\"tr\", style=\"background: #E46CCA; text-align:center\")\n",
    "speed_data2 = speed_data.find_all(\"div\")\n",
    "speed = speed_data2[1].text\n",
    "speed"
   ]
  },
  {
   "cell_type": "code",
   "execution_count": 62,
   "id": "0f070c33-bc5a-4453-be5f-5b7dbffac6c4",
   "metadata": {},
   "outputs": [
    {
     "data": {
      "text/plain": [
       "600"
      ]
     },
     "execution_count": 62,
     "metadata": {},
     "output_type": "execute_result"
    }
   ],
   "source": [
    "# total \n",
    "total = int(hp) + int(attack) + int(defense) + int(special_attack) + int(special_defense) + int(speed)\n",
    "total"
   ]
  },
  {
   "cell_type": "code",
   "execution_count": 43,
   "id": "76456a8c-dbfa-4979-9185-f045bbb436d0",
   "metadata": {},
   "outputs": [
    {
     "name": "stdout",
     "output_type": "stream",
     "text": [
      "Hp = Defense:\n",
      "Attack = Sp. Atk:\n",
      "Defense = Sp. Def:\n",
      "Special Attack = Speed:\n",
      "Special Defense = Total:\n",
      "Total = \n"
     ]
    }
   ],
   "source": [
    "# Arceus\n",
    "hp = data[27].text\n",
    "attack = data[30].text\n",
    "defense = data[33].text\n",
    "special_attack = data[36].text\n",
    "special_defense = data[39].text\n",
    "speed = data[42].text\n",
    "total = data[45].text\n",
    "print(f\"Hp = {hp}\")\n",
    "print(f\"Attack = {attack}\")\n",
    "print(f\"Defense = {defense}\")\n",
    "print(f\"Special Attack = {special_attack}\")\n",
    "print(f\"Special Defense = {special_defense}\")\n",
    "print(f\"Total = {total}\")"
   ]
  },
  {
   "cell_type": "code",
   "execution_count": null,
   "id": "04fd365c-3ed1-4fd9-892a-c1980e2414fc",
   "metadata": {},
   "outputs": [],
   "source": []
  }
 ],
 "metadata": {
  "kernelspec": {
   "display_name": "Python 3",
   "language": "python",
   "name": "python3"
  },
  "language_info": {
   "codemirror_mode": {
    "name": "ipython",
    "version": 3
   },
   "file_extension": ".py",
   "mimetype": "text/x-python",
   "name": "python",
   "nbconvert_exporter": "python",
   "pygments_lexer": "ipython3",
   "version": "3.6.9"
  }
 },
 "nbformat": 4,
 "nbformat_minor": 5
}
